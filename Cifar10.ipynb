{
  "nbformat": 4,
  "nbformat_minor": 0,
  "metadata": {
    "colab": {
      "name": "Cifar10",
      "provenance": [],
      "collapsed_sections": [],
      "include_colab_link": true
    },
    "kernelspec": {
      "name": "python3",
      "display_name": "Python 3"
    },
    "language_info": {
      "name": "python"
    },
    "accelerator": "GPU"
  },
  "cells": [
    {
      "cell_type": "markdown",
      "metadata": {
        "id": "view-in-github",
        "colab_type": "text"
      },
      "source": [
        "<a href=\"https://colab.research.google.com/github/sameer1604/Cifar10/blob/main/Cifar10.ipynb\" target=\"_parent\"><img src=\"https://colab.research.google.com/assets/colab-badge.svg\" alt=\"Open In Colab\"/></a>"
      ]
    },
    {
      "cell_type": "markdown",
      "metadata": {
        "id": "BcraY0ioqeML"
      },
      "source": [
        "# Importing Dependencies"
      ]
    },
    {
      "cell_type": "code",
      "metadata": {
        "id": "6bWzlixCGHgC"
      },
      "source": [
        "import tensorflow as tf\n",
        "import seaborn as sns\n",
        "from tensorflow import keras\n",
        "from sklearn.utils.multiclass import unique_labels\n",
        "import matplotlib.pyplot as plt\n",
        "%matplotlib inline\n",
        "import numpy as np\n",
        "import itertools\n",
        "from sklearn.model_selection import train_test_split\n",
        "from sklearn.metrics import confusion_matrix\n",
        "from keras import Sequential\n",
        "from tensorflow.keras.applications import VGG19\n",
        "from keras.preprocessing.image import ImageDataGenerator\n",
        "from keras.optimizers import SGD,Adam\n",
        "from keras.callbacks import ReduceLROnPlateau\n",
        "from keras.layers import Flatten,Dense,BatchNormalization,Activation,Dropout\n",
        "from tensorflow.keras.utils import to_categorical\n"
      ],
      "execution_count": 1,
      "outputs": []
    },
    {
      "cell_type": "markdown",
      "metadata": {
        "id": "oTyFw4dDqusH"
      },
      "source": [
        "# Getting the Dataset & splitting it"
      ]
    },
    {
      "cell_type": "code",
      "metadata": {
        "id": "0oeV4iypAEbb",
        "colab": {
          "base_uri": "https://localhost:8080/"
        },
        "outputId": "7e147bc3-47e3-4191-b690-150514b41187"
      },
      "source": [
        "(X_train, y_train), (X_test, y_test)=keras.datasets.cifar10.load_data()"
      ],
      "execution_count": 2,
      "outputs": [
        {
          "output_type": "stream",
          "text": [
            "Downloading data from https://www.cs.toronto.edu/~kriz/cifar-10-python.tar.gz\n",
            "170500096/170498071 [==============================] - 4s 0us/step\n"
          ],
          "name": "stdout"
        }
      ]
    },
    {
      "cell_type": "code",
      "metadata": {
        "id": "pfItMBW17Ogf"
      },
      "source": [
        "X_train,X_val,y_train,y_val=train_test_split(X_train,y_train,test_size=.3)"
      ],
      "execution_count": 4,
      "outputs": []
    },
    {
      "cell_type": "code",
      "metadata": {
        "colab": {
          "base_uri": "https://localhost:8080/"
        },
        "id": "JlPFO7jvAMt8",
        "outputId": "9ef7d51b-6cff-421f-be4d-7fc16018d1c5"
      },
      "source": [
        "print((X_train.shape,y_train.shape))\n",
        "print((X_val.shape,y_val.shape))\n",
        "print((X_test.shape,y_test.shape))"
      ],
      "execution_count": 5,
      "outputs": [
        {
          "output_type": "stream",
          "text": [
            "((35000, 32, 32, 3), (35000, 1))\n",
            "((15000, 32, 32, 3), (15000, 1))\n",
            "((10000, 32, 32, 3), (10000, 1))\n"
          ],
          "name": "stdout"
        }
      ]
    },
    {
      "cell_type": "code",
      "metadata": {
        "id": "_ZnjcLjbHuy2"
      },
      "source": [
        "y_train=y_train.flatten()\n",
        "y_val=y_val.flatten()\n",
        "y_test=y_test.flatten()"
      ],
      "execution_count": 6,
      "outputs": []
    },
    {
      "cell_type": "markdown",
      "metadata": {
        "id": "dhmnW49Lq9DV"
      },
      "source": [
        "# Distribution of data in classes"
      ]
    },
    {
      "cell_type": "code",
      "metadata": {
        "colab": {
          "base_uri": "https://localhost:8080/",
          "height": 652
        },
        "id": "ERNXIRE8e6_G",
        "outputId": "242054ba-8e99-47f8-af49-28d4d6ee2b37"
      },
      "source": [
        "classes = ['airplane', 'automobile', 'bird', 'cat', 'deer', 'dog', 'frog', 'horse', 'ship', 'truck']\n",
        "\n",
        "plt.figure(figsize=(10,7))\n",
        "p = sns.countplot(y_train.flatten())\n",
        "p.set(xticklabels=classes)"
      ],
      "execution_count": 7,
      "outputs": [
        {
          "output_type": "stream",
          "text": [
            "/usr/local/lib/python3.7/dist-packages/seaborn/_decorators.py:43: FutureWarning: Pass the following variable as a keyword arg: x. From version 0.12, the only valid positional argument will be `data`, and passing other arguments without an explicit keyword will result in an error or misinterpretation.\n",
            "  FutureWarning\n"
          ],
          "name": "stderr"
        },
        {
          "output_type": "execute_result",
          "data": {
            "text/plain": [
              "[[Text(0, 0, 'airplane'),\n",
              "  Text(0, 0, 'automobile'),\n",
              "  Text(0, 0, 'bird'),\n",
              "  Text(0, 0, 'cat'),\n",
              "  Text(0, 0, 'deer'),\n",
              "  Text(0, 0, 'dog'),\n",
              "  Text(0, 0, 'frog'),\n",
              "  Text(0, 0, 'horse'),\n",
              "  Text(0, 0, 'ship'),\n",
              "  Text(0, 0, 'truck')]]"
            ]
          },
          "metadata": {
            "tags": []
          },
          "execution_count": 7
        },
        {
          "output_type": "display_data",
          "data": {
            "image/png": "[encoded data removed]",
            "text/plain": [
              "<Figure size 720x504 with 1 Axes>"
            ]
          },
          "metadata": {
            "tags": [],
            "needs_background": "light"
          }
        }
      ]
    },
    {
      "cell_type": "markdown",
      "metadata": {
        "id": "Hx-LwveBrIux"
      },
      "source": [
        "# Data Normalization & Augmentation"
      ]
    },
    {
      "cell_type": "code",
      "metadata": {
        "id": "9IqCQ58efb02"
      },
      "source": [
        "input_shape = (32, 32, 3)\n",
        "\n",
        "X_train=X_train / 255.0\n",
        "X_val=X_val / 255.0\n",
        "X_test=X_test / 255.0"
      ],
      "execution_count": 8,
      "outputs": []
    },
    {
      "cell_type": "code",
      "metadata": {
        "colab": {
          "base_uri": "https://localhost:8080/"
        },
        "id": "cONG7HrqgEul",
        "outputId": "931a9668-8ade-4af0-de7c-301a8bd6196e"
      },
      "source": [
        "X_train.shape"
      ],
      "execution_count": 9,
      "outputs": [
        {
          "output_type": "execute_result",
          "data": {
            "text/plain": [
              "(35000, 32, 32, 3)"
            ]
          },
          "metadata": {
            "tags": []
          },
          "execution_count": 9
        }
      ]
    },
    {
      "cell_type": "code",
      "metadata": {
        "id": "r5nHqz7t8JhV"
      },
      "source": [
        "train_generator = ImageDataGenerator(\n",
        "                                    rotation_range=2, \n",
        "                                    horizontal_flip=True,\n",
        "                                    zoom_range=.1 )\n",
        "\n",
        "val_generator = ImageDataGenerator(\n",
        "                                    rotation_range=2, \n",
        "                                    horizontal_flip=True,\n",
        "                                    zoom_range=.1)\n",
        "\n",
        "test_generator = ImageDataGenerator(\n",
        "                                    rotation_range=2, \n",
        "                                    horizontal_flip= True,\n",
        "                                    zoom_range=.1) "
      ],
      "execution_count": 10,
      "outputs": []
    },
    {
      "cell_type": "code",
      "metadata": {
        "id": "GjxvkC4a8OWq"
      },
      "source": [
        "train_generator.fit(X_train)\n",
        "val_generator.fit(X_val)\n",
        "test_generator.fit(X_test)"
      ],
      "execution_count": 11,
      "outputs": []
    },
    {
      "cell_type": "markdown",
      "metadata": {
        "id": "4j7-BCoJrOz1"
      },
      "source": [
        "# Hot encoding the labels to categorical"
      ]
    },
    {
      "cell_type": "code",
      "metadata": {
        "id": "D_ab0TZXgWjK"
      },
      "source": [
        "y_train = tf.one_hot(y_train.astype(np.int32), depth=10)\n",
        "y_test = tf.one_hot(y_test.astype(np.int32), depth=10)\n",
        "y_val= tf.one_hot(y_val.astype(np.int32), depth=10)"
      ],
      "execution_count": 12,
      "outputs": []
    },
    {
      "cell_type": "code",
      "metadata": {
        "colab": {
          "base_uri": "https://localhost:8080/"
        },
        "id": "exTjCLxpgbNb",
        "outputId": "7cb78792-2748-4172-b612-775263658467"
      },
      "source": [
        "y_train"
      ],
      "execution_count": 13,
      "outputs": [
        {
          "output_type": "execute_result",
          "data": {
            "text/plain": [
              "<tf.Tensor: shape=(35000, 10), dtype=float32, numpy=\n",
              "array([[0., 0., 0., ..., 1., 0., 0.],\n",
              "       [0., 0., 0., ..., 0., 0., 1.],\n",
              "       [0., 0., 1., ..., 0., 0., 0.],\n",
              "       ...,\n",
              "       [0., 0., 0., ..., 0., 0., 0.],\n",
              "       [0., 0., 0., ..., 0., 1., 0.],\n",
              "       [0., 0., 0., ..., 1., 0., 0.]], dtype=float32)>"
            ]
          },
          "metadata": {
            "tags": []
          },
          "execution_count": 13
        }
      ]
    },
    {
      "cell_type": "markdown",
      "metadata": {
        "id": "pxl_bhterUsI"
      },
      "source": [
        "# Plotting the images\n",
        "Below the image is shown of an airplane."
      ]
    },
    {
      "cell_type": "code",
      "metadata": {
        "colab": {
          "base_uri": "https://localhost:8080/",
          "height": 283
        },
        "id": "Q5ebVo9pgfaw",
        "outputId": "e60f9fc5-c2d0-406f-c848-5f243d139b10"
      },
      "source": [
        "plt.imshow(X_train[55])\n",
        "print(y_train[55])"
      ],
      "execution_count": 15,
      "outputs": [
        {
          "output_type": "stream",
          "text": [
            "tf.Tensor([0. 0. 0. 1. 0. 0. 0. 0. 0. 0.], shape=(10,), dtype=float32)\n"
          ],
          "name": "stdout"
        },
        {
          "output_type": "display_data",
          "data": {
            "image/png": "[encoded data removed]",
            "text/plain": [
              "<Figure size 432x288 with 1 Axes>"
            ]
          },
          "metadata": {
            "tags": [],
            "needs_background": "light"
          }
        }
      ]
    },
    {
      "cell_type": "markdown",
      "metadata": {
        "id": "LtzDnWp0rcCj"
      },
      "source": [
        "## Importing the VGG19 model\n",
        "We'll be using the VGG19 model pretrained on ImageNet dataset."
      ]
    },
    {
      "cell_type": "code",
      "metadata": {
        "id": "B6WLkp0T875C",
        "colab": {
          "base_uri": "https://localhost:8080/"
        },
        "outputId": "b871e1e7-7d52-446f-dceb-1e7647a3d2fc"
      },
      "source": [
        "base_model_1 = VGG19(include_top=False,weights='imagenet',input_shape=(32,32,3),classes=y_train.shape[1])"
      ],
      "execution_count": null,
      "outputs": [
        {
          "output_type": "stream",
          "text": [
            "Downloading data from https://storage.googleapis.com/tensorflow/keras-applications/vgg19/vgg19_weights_tf_dim_ordering_tf_kernels_notop.h5\n",
            "80142336/80134624 [==============================] - 0s 0us/step\n"
          ],
          "name": "stdout"
        }
      ]
    },
    {
      "cell_type": "markdown",
      "metadata": {
        "id": "7aIABU-TrpQE"
      },
      "source": [
        "# Adding extra layers to it and compiling the model"
      ]
    },
    {
      "cell_type": "code",
      "metadata": {
        "id": "kNgqi_xR89lQ"
      },
      "source": [
        "model_1= Sequential()\n",
        "model_1.add(base_model_1) #Adds the base model (in this case vgg19 to model_1)\n",
        "model_1.add(Flatten())\n",
        "model_1.add(Dense(1024,activation=('relu'),input_dim=512))\n",
        "model_1.add(Dense(512,activation=('relu'))) \n",
        "model_1.add(Dropout(0.3))\n",
        "model_1.add(Dense(256,activation=('relu'))) \n",
        "model_1.add(Dropout(0.3))\n",
        "model_1.add(Dense(128,activation=('relu')))\n",
        "model_1.add(Dropout(0.3))\n",
        "model_1.add(Dense(10,activation=('softmax')))\n",
        "learn_rate=.001\n",
        "\n",
        "sgd=SGD(learning_rate=learn_rate,momentum=.9,nesterov=False)\n",
        "model_1.compile(optimizer=sgd,loss='categorical_crossentropy',metrics=['accuracy'])\n"
      ],
      "execution_count": null,
      "outputs": []
    },
    {
      "cell_type": "code",
      "metadata": {
        "id": "xPz3i9mxHGvM"
      },
      "source": [
        "lrr= ReduceLROnPlateau(\n",
        "                       monitor='val_accuracy', #Metric to be measured\n",
        "                       factor=.01, #Factor by which learning rate will be reduced\n",
        "                       patience=3,  #No. of epochs after which if there is no improvement in the val_acc, the learning rate is reduced\n",
        "                       min_lr=1e-5)"
      ],
      "execution_count": null,
      "outputs": []
    },
    {
      "cell_type": "markdown",
      "metadata": {
        "id": "kivoVYDsrzDX"
      },
      "source": [
        "# Training VGG19 on the CIFAR-10 dataset"
      ]
    },
    {
      "cell_type": "code",
      "metadata": {
        "colab": {
          "base_uri": "https://localhost:8080/"
        },
        "id": "W31P6xWF9Db7",
        "outputId": "d05f6e6c-d6bb-4d69-9ea9-d64f8580fc22"
      },
      "source": [
        "batch_size=200\n",
        "try3=model_1.fit(train_generator.flow(X_train,y_train,batch_size=batch_size),\n",
        "                      epochs=10,\n",
        "                      steps_per_epoch=X_train.shape[0]//batch_size,\n",
        "                      validation_data=val_generator.flow(X_val,y_val,batch_size=batch_size),validation_steps=X_val.shape[0]//batch_size,callbacks=[lrr],\n",
        "                      verbose=1)\n"
      ],
      "execution_count": null,
      "outputs": [
        {
          "output_type": "stream",
          "text": [
            "Epoch 1/10\n",
            "175/175 [==============================] - 50s 165ms/step - loss: 2.1743 - accuracy: 0.1845 - val_loss: 1.3172 - val_accuracy: 0.5325\n",
            "Epoch 2/10\n",
            "175/175 [==============================] - 26s 150ms/step - loss: 1.3634 - accuracy: 0.5223 - val_loss: 0.9586 - val_accuracy: 0.6747\n",
            "Epoch 3/10\n",
            "175/175 [==============================] - 27s 156ms/step - loss: 1.0615 - accuracy: 0.6510 - val_loss: 0.8109 - val_accuracy: 0.7306\n",
            "Epoch 4/10\n",
            "175/175 [==============================] - 27s 154ms/step - loss: 0.9379 - accuracy: 0.6966 - val_loss: 0.7888 - val_accuracy: 0.7325\n",
            "Epoch 5/10\n",
            "175/175 [==============================] - 26s 150ms/step - loss: 0.8407 - accuracy: 0.7273 - val_loss: 0.7129 - val_accuracy: 0.7585\n",
            "Epoch 6/10\n",
            "175/175 [==============================] - 26s 151ms/step - loss: 0.7568 - accuracy: 0.7575 - val_loss: 0.7096 - val_accuracy: 0.7692\n",
            "Epoch 7/10\n",
            "175/175 [==============================] - 26s 151ms/step - loss: 0.7205 - accuracy: 0.7683 - val_loss: 0.6598 - val_accuracy: 0.7802\n",
            "Epoch 8/10\n",
            "175/175 [==============================] - 27s 156ms/step - loss: 0.6760 - accuracy: 0.7849 - val_loss: 0.6608 - val_accuracy: 0.7753\n",
            "Epoch 9/10\n",
            "175/175 [==============================] - 28s 159ms/step - loss: 0.6201 - accuracy: 0.8013 - val_loss: 0.5870 - val_accuracy: 0.8056\n",
            "Epoch 10/10\n",
            "175/175 [==============================] - 26s 149ms/step - loss: 0.5890 - accuracy: 0.8104 - val_loss: 0.5909 - val_accuracy: 0.8079\n"
          ],
          "name": "stdout"
        }
      ]
    },
    {
      "cell_type": "markdown",
      "metadata": {
        "id": "NquVA3uGr9Xb"
      },
      "source": [
        "# Plotting the loss and accuracy graphs for training and validation"
      ]
    },
    {
      "cell_type": "code",
      "metadata": {
        "id": "jFECxo03AyWJ",
        "colab": {
          "base_uri": "https://localhost:8080/",
          "height": 286
        },
        "outputId": "f172d610-52ae-4ec1-ea47-8d314572bc03"
      },
      "source": [
        "#Plot the training and valiation loss\n",
        "'''The output of model.fit is a model.History object which is a record of metrics at each epoch. This can be used to graph the training and validation accuracy\n",
        "to see where they plateaued off and if overfitting can subsequently be avoided'''\n",
        "\n",
        "f,ax=plt.subplots(2,1) #Creates 2 subplots under 1 column\n",
        "\n",
        "#Assign the first subplot to graph training loss and validation loss\n",
        "ax[0].plot(model_1.history.history['loss'],color='b',label='Training Loss')\n",
        "ax[0].plot(model_1.history.history['val_loss'],color='r',label='Validation Loss')\n",
        "\n",
        "#Next lets plot the training accuracy and validation accuracy\n",
        "ax[1].plot(model_1.history.history['accuracy'],color='b',label='Training  Accuracy')\n",
        "ax[1].plot(model_1.history.history['val_accuracy'],color='r',label='Validation Accuracy')"
      ],
      "execution_count": null,
      "outputs": [
        {
          "output_type": "execute_result",
          "data": {
            "text/plain": [
              "[<matplotlib.lines.Line2D at 0x7f0690144950>]"
            ]
          },
          "metadata": {
            "tags": []
          },
          "execution_count": 18
        },
        {
          "output_type": "display_data",
          "data": {
            "image/png": "[encoded data removed]",
            "text/plain": [
              "<Figure size 432x288 with 2 Axes>"
            ]
          },
          "metadata": {
            "tags": [],
            "needs_background": "light"
          }
        }
      ]
    },
    {
      "cell_type": "markdown",
      "metadata": {
        "id": "i_1k8DKEsG5x"
      },
      "source": [
        "# Defining the function for the confusion matrix"
      ]
    },
    {
      "cell_type": "code",
      "metadata": {
        "id": "0zO50Jq6oJRz"
      },
      "source": [
        "def plot_confusion_matrix(y_true, y_pred, classes,\n",
        "                          normalize=False,\n",
        "                          title=None,\n",
        "                          cmap=plt.cm.Blues):\n",
        "    \"\"\"\n",
        "    This function prints and plots the confusion matrix.\n",
        "    Normalization can be applied by setting `normalize=True`.\n",
        "    \"\"\"\n",
        "    if not title:\n",
        "        if normalize:\n",
        "            title = 'Normalized confusion matrix'\n",
        "        else:\n",
        "            title = 'Confusion matrix, without normalization'\n",
        "\n",
        "    # Compute confusion matrix\n",
        "    cm = confusion_matrix(y_true, y_pred)\n",
        "    if normalize:\n",
        "        cm = cm.astype('float') / cm.sum(axis=1)[:, np.newaxis]\n",
        "        print(\"Normalized confusion matrix\")\n",
        "    else:\n",
        "        print('Confusion matrix, without normalization')\n",
        "    fig, ax = plt.subplots(figsize=(7,7))\n",
        "    im = ax.imshow(cm, interpolation='nearest', cmap=cmap)\n",
        "    ax.figure.colorbar(im, ax=ax)\n",
        "    # We want to show all ticks...\n",
        "    ax.set(xticks=np.arange(cm.shape[1]),\n",
        "           yticks=np.arange(cm.shape[0]),\n",
        "           # ... and label them with the respective list entries\n",
        "           xticklabels=classes, yticklabels=classes,\n",
        "           title=title,\n",
        "           ylabel='True label',\n",
        "           xlabel='Predicted label')\n",
        "\n",
        "    # Rotate the tick labels and set their alignment.\n",
        "    plt.setp(ax.get_xticklabels(), rotation=45, ha=\"right\",\n",
        "             rotation_mode=\"anchor\")\n",
        "    # Loop over data dimensions and create text annotations.\n",
        "    fmt = '.2f' if normalize else 'd'\n",
        "    thresh = cm.max() / 2.\n",
        "    for i in range(cm.shape[0]):\n",
        "        for j in range(cm.shape[1]):\n",
        "            ax.text(j, i, format(cm[i, j], fmt),\n",
        "                    ha=\"center\", va=\"center\",\n",
        "                    color=\"white\" if cm[i, j] > thresh else \"black\")\n",
        "    fig.tight_layout()\n",
        "    return ax\n",
        "\n",
        "    np.set_printoptions(precision=2)"
      ],
      "execution_count": null,
      "outputs": []
    },
    {
      "cell_type": "markdown",
      "metadata": {
        "id": "C4MII2susOVr"
      },
      "source": [
        "# Using the trained VGG19 model to make a prediction on the test set"
      ]
    },
    {
      "cell_type": "code",
      "metadata": {
        "id": "-7rXXs4KPHrv",
        "colab": {
          "base_uri": "https://localhost:8080/"
        },
        "outputId": "5960512d-82e5-42fc-8e79-0e88bf1cd30c"
      },
      "source": [
        "y_pred=model_1.predict_classes(X_test)\n",
        "y_true=np.argmax(y_test,axis=1)\n",
        "\n",
        "#Compute the confusion matrix\n",
        "confusion_mtx=confusion_matrix(y_true,y_pred)"
      ],
      "execution_count": null,
      "outputs": [
        {
          "output_type": "stream",
          "text": [
            "/usr/local/lib/python3.7/dist-packages/keras/engine/sequential.py:450: UserWarning: `model.predict_classes()` is deprecated and will be removed after 2021-01-01. Please use instead:* `np.argmax(model.predict(x), axis=-1)`,   if your model does multi-class classification   (e.g. if it uses a `softmax` last-layer activation).* `(model.predict(x) > 0.5).astype(\"int32\")`,   if your model does binary classification   (e.g. if it uses a `sigmoid` last-layer activation).\n",
            "  warnings.warn('`model.predict_classes()` is deprecated and '\n"
          ],
          "name": "stderr"
        }
      ]
    },
    {
      "cell_type": "markdown",
      "metadata": {
        "id": "bx1WXgBYsVhZ"
      },
      "source": [
        "# Confusion Matrix for VGG19 "
      ]
    },
    {
      "cell_type": "code",
      "metadata": {
        "colab": {
          "base_uri": "https://localhost:8080/",
          "height": 520
        },
        "id": "JnEwn4r7pELq",
        "outputId": "5090ec6f-4902-4c77-9437-0476e7ea9f09"
      },
      "source": [
        "plot_confusion_matrix(y_true, y_pred, classes=classes,title='Confusion matrix, without normalization')"
      ],
      "execution_count": null,
      "outputs": [
        {
          "output_type": "stream",
          "text": [
            "Confusion matrix, without normalization\n"
          ],
          "name": "stdout"
        },
        {
          "output_type": "execute_result",
          "data": {
            "text/plain": [
              "<matplotlib.axes._subplots.AxesSubplot at 0x7f0662239c90>"
            ]
          },
          "metadata": {
            "tags": []
          },
          "execution_count": 28
        },
        {
          "output_type": "display_data",
          "data": {
            "image/png": "[encoded data removed]",
            "text/plain": [
              "<Figure size 504x504 with 2 Axes>"
            ]
          },
          "metadata": {
            "tags": [],
            "needs_background": "light"
          }
        }
      ]
    },
    {
      "cell_type": "markdown",
      "metadata": {
        "id": "4tp2aYk6scx3"
      },
      "source": [
        "# Developing another custom CNN and compiling it"
      ]
    },
    {
      "cell_type": "code",
      "metadata": {
        "id": "4yWd8Uk2SBac"
      },
      "source": [
        "model = tf.keras.models.Sequential([\n",
        "    tf.keras.layers.Conv2D(32, 3, padding='same', input_shape=X_train.shape[1:], activation='relu'),\n",
        "    tf.keras.layers.Conv2D(32, 3, activation='relu'),\n",
        "    tf.keras.layers.MaxPooling2D(),\n",
        "    tf.keras.layers.Dropout(0.25),\n",
        "\n",
        "    tf.keras.layers.Conv2D(64, 3, padding='same', activation='relu'),\n",
        "    tf.keras.layers.Conv2D(64, 3, activation='relu'),\n",
        "    tf.keras.layers.MaxPooling2D(),\n",
        "    tf.keras.layers.Dropout(0.25),\n",
        "\n",
        "    tf.keras.layers.Flatten(),\n",
        "    tf.keras.layers.Dense(512, activation='relu'),\n",
        "    tf.keras.layers.Dropout(0.5),\n",
        "    tf.keras.layers.Dense(10, activation='softmax'),\n",
        "])\n",
        "\n",
        "model.compile(optimizer=tf.keras.optimizers.RMSprop(learning_rate=0.0001, decay=1e-06),\n",
        "            loss='categorical_crossentropy', metrics=['accuracy'])"
      ],
      "execution_count": null,
      "outputs": []
    },
    {
      "cell_type": "markdown",
      "metadata": {
        "id": "wToCjWT5smYh"
      },
      "source": [
        "# Training the custom CNN model on the data"
      ]
    },
    {
      "cell_type": "code",
      "metadata": {
        "id": "zv1LEouJkqjH",
        "colab": {
          "base_uri": "https://localhost:8080/"
        },
        "outputId": "554c2c37-e918-4c54-f628-ae57454061f7"
      },
      "source": [
        "batch_size=200\n",
        "try3=model.fit(train_generator.flow(X_train,y_train,batch_size=batch_size),\n",
        "                      epochs=50,\n",
        "                      steps_per_epoch=X_train.shape[0]//batch_size,\n",
        "                      validation_data=val_generator.flow(X_val,y_val,batch_size=batch_size),validation_steps=X_val.shape[0]//batch_size,callbacks=[lrr],\n",
        "                      verbose=1)"
      ],
      "execution_count": null,
      "outputs": [
        {
          "output_type": "stream",
          "text": [
            "Epoch 1/50\n",
            "175/175 [==============================] - 23s 125ms/step - loss: 2.1026 - accuracy: 0.2224 - val_loss: 1.9249 - val_accuracy: 0.3061\n",
            "Epoch 2/50\n",
            "175/175 [==============================] - 21s 119ms/step - loss: 1.8541 - accuracy: 0.3318 - val_loss: 1.7536 - val_accuracy: 0.3793\n",
            "Epoch 3/50\n",
            "175/175 [==============================] - 20s 115ms/step - loss: 1.7322 - accuracy: 0.3795 - val_loss: 1.6314 - val_accuracy: 0.4255\n",
            "Epoch 4/50\n",
            "175/175 [==============================] - 21s 122ms/step - loss: 1.6558 - accuracy: 0.4051 - val_loss: 1.5566 - val_accuracy: 0.4465\n",
            "Epoch 5/50\n",
            "175/175 [==============================] - 21s 122ms/step - loss: 1.5945 - accuracy: 0.4268 - val_loss: 1.5311 - val_accuracy: 0.4558\n",
            "Epoch 6/50\n",
            "175/175 [==============================] - 20s 114ms/step - loss: 1.5459 - accuracy: 0.4435 - val_loss: 1.4593 - val_accuracy: 0.4871\n",
            "Epoch 7/50\n",
            "175/175 [==============================] - 21s 120ms/step - loss: 1.5021 - accuracy: 0.4586 - val_loss: 1.4362 - val_accuracy: 0.4847\n",
            "Epoch 8/50\n",
            "175/175 [==============================] - 22s 124ms/step - loss: 1.4750 - accuracy: 0.4682 - val_loss: 1.4000 - val_accuracy: 0.5063\n",
            "Epoch 9/50\n",
            "175/175 [==============================] - 20s 115ms/step - loss: 1.4436 - accuracy: 0.4805 - val_loss: 1.3506 - val_accuracy: 0.5267\n",
            "Epoch 10/50\n",
            "175/175 [==============================] - 21s 118ms/step - loss: 1.4148 - accuracy: 0.4948 - val_loss: 1.3354 - val_accuracy: 0.5365\n",
            "Epoch 11/50\n",
            "175/175 [==============================] - 22s 125ms/step - loss: 1.3913 - accuracy: 0.5039 - val_loss: 1.3161 - val_accuracy: 0.5326\n",
            "Epoch 12/50\n",
            "175/175 [==============================] - 20s 115ms/step - loss: 1.3659 - accuracy: 0.5107 - val_loss: 1.2879 - val_accuracy: 0.5473\n",
            "Epoch 13/50\n",
            "175/175 [==============================] - 20s 116ms/step - loss: 1.3487 - accuracy: 0.5192 - val_loss: 1.2785 - val_accuracy: 0.5533\n",
            "Epoch 14/50\n",
            "175/175 [==============================] - 22s 129ms/step - loss: 1.3279 - accuracy: 0.5269 - val_loss: 1.2504 - val_accuracy: 0.5578\n",
            "Epoch 15/50\n",
            "175/175 [==============================] - 22s 124ms/step - loss: 1.3082 - accuracy: 0.5339 - val_loss: 1.2266 - val_accuracy: 0.5710\n",
            "Epoch 16/50\n",
            "175/175 [==============================] - 21s 122ms/step - loss: 1.2915 - accuracy: 0.5419 - val_loss: 1.2159 - val_accuracy: 0.5714\n",
            "Epoch 17/50\n",
            "175/175 [==============================] - 20s 116ms/step - loss: 1.2752 - accuracy: 0.5477 - val_loss: 1.2108 - val_accuracy: 0.5745\n",
            "Epoch 18/50\n",
            "175/175 [==============================] - 21s 122ms/step - loss: 1.2594 - accuracy: 0.5525 - val_loss: 1.2027 - val_accuracy: 0.5778\n",
            "Epoch 19/50\n",
            "175/175 [==============================] - 22s 123ms/step - loss: 1.2424 - accuracy: 0.5606 - val_loss: 1.1728 - val_accuracy: 0.5899\n",
            "Epoch 20/50\n",
            "175/175 [==============================] - 20s 117ms/step - loss: 1.2306 - accuracy: 0.5640 - val_loss: 1.1711 - val_accuracy: 0.5884\n",
            "Epoch 21/50\n",
            "175/175 [==============================] - 21s 119ms/step - loss: 1.2142 - accuracy: 0.5700 - val_loss: 1.1483 - val_accuracy: 0.5962\n",
            "Epoch 22/50\n",
            "175/175 [==============================] - 22s 125ms/step - loss: 1.1970 - accuracy: 0.5772 - val_loss: 1.1408 - val_accuracy: 0.6043\n",
            "Epoch 23/50\n",
            "175/175 [==============================] - 20s 115ms/step - loss: 1.1825 - accuracy: 0.5854 - val_loss: 1.1238 - val_accuracy: 0.6073\n",
            "Epoch 24/50\n",
            "175/175 [==============================] - 20s 117ms/step - loss: 1.1680 - accuracy: 0.5877 - val_loss: 1.0974 - val_accuracy: 0.6172\n",
            "Epoch 25/50\n",
            "175/175 [==============================] - 22s 127ms/step - loss: 1.1603 - accuracy: 0.5933 - val_loss: 1.1027 - val_accuracy: 0.6155\n",
            "Epoch 26/50\n",
            "175/175 [==============================] - 20s 116ms/step - loss: 1.1450 - accuracy: 0.5967 - val_loss: 1.0837 - val_accuracy: 0.6187\n",
            "Epoch 27/50\n",
            "175/175 [==============================] - 20s 116ms/step - loss: 1.1317 - accuracy: 0.6030 - val_loss: 1.0899 - val_accuracy: 0.6196\n",
            "Epoch 28/50\n",
            "175/175 [==============================] - 22s 126ms/step - loss: 1.1191 - accuracy: 0.6038 - val_loss: 1.0527 - val_accuracy: 0.6326\n",
            "Epoch 29/50\n",
            "175/175 [==============================] - 22s 125ms/step - loss: 1.1019 - accuracy: 0.6119 - val_loss: 1.0523 - val_accuracy: 0.6313\n",
            "Epoch 30/50\n",
            "175/175 [==============================] - 20s 115ms/step - loss: 1.0947 - accuracy: 0.6174 - val_loss: 1.0392 - val_accuracy: 0.6393\n",
            "Epoch 31/50\n",
            "175/175 [==============================] - 20s 116ms/step - loss: 1.0811 - accuracy: 0.6204 - val_loss: 1.0225 - val_accuracy: 0.6433\n",
            "Epoch 32/50\n",
            "175/175 [==============================] - 22s 126ms/step - loss: 1.0738 - accuracy: 0.6209 - val_loss: 1.0213 - val_accuracy: 0.6463\n",
            "Epoch 33/50\n",
            "175/175 [==============================] - 20s 115ms/step - loss: 1.0616 - accuracy: 0.6309 - val_loss: 1.0006 - val_accuracy: 0.6519\n",
            "Epoch 34/50\n",
            "175/175 [==============================] - 20s 115ms/step - loss: 1.0502 - accuracy: 0.6332 - val_loss: 0.9972 - val_accuracy: 0.6533\n",
            "Epoch 35/50\n",
            "175/175 [==============================] - 22s 126ms/step - loss: 1.0412 - accuracy: 0.6377 - val_loss: 0.9920 - val_accuracy: 0.6539\n",
            "Epoch 36/50\n",
            "175/175 [==============================] - 20s 116ms/step - loss: 1.0331 - accuracy: 0.6401 - val_loss: 0.9776 - val_accuracy: 0.6595\n",
            "Epoch 37/50\n",
            "175/175 [==============================] - 20s 114ms/step - loss: 1.0225 - accuracy: 0.6416 - val_loss: 0.9558 - val_accuracy: 0.6696\n",
            "Epoch 38/50\n",
            "175/175 [==============================] - 22s 126ms/step - loss: 1.0110 - accuracy: 0.6480 - val_loss: 0.9512 - val_accuracy: 0.6684\n",
            "Epoch 39/50\n",
            "175/175 [==============================] - 21s 118ms/step - loss: 1.0066 - accuracy: 0.6472 - val_loss: 0.9490 - val_accuracy: 0.6678\n",
            "Epoch 40/50\n",
            "175/175 [==============================] - 20s 113ms/step - loss: 0.9956 - accuracy: 0.6523 - val_loss: 0.9429 - val_accuracy: 0.6714\n",
            "Epoch 41/50\n",
            "175/175 [==============================] - 22s 123ms/step - loss: 0.9833 - accuracy: 0.6560 - val_loss: 0.9265 - val_accuracy: 0.6761\n",
            "Epoch 42/50\n",
            "175/175 [==============================] - 21s 122ms/step - loss: 0.9777 - accuracy: 0.6586 - val_loss: 0.9264 - val_accuracy: 0.6816\n",
            "Epoch 43/50\n",
            "175/175 [==============================] - 22s 128ms/step - loss: 0.9676 - accuracy: 0.6639 - val_loss: 0.9159 - val_accuracy: 0.6814\n",
            "Epoch 44/50\n",
            "175/175 [==============================] - 20s 116ms/step - loss: 0.9596 - accuracy: 0.6635 - val_loss: 0.9239 - val_accuracy: 0.6738\n",
            "Epoch 45/50\n",
            "175/175 [==============================] - 20s 115ms/step - loss: 0.9502 - accuracy: 0.6681 - val_loss: 0.9032 - val_accuracy: 0.6867\n",
            "Epoch 46/50\n",
            "175/175 [==============================] - 22s 127ms/step - loss: 0.9452 - accuracy: 0.6677 - val_loss: 0.9159 - val_accuracy: 0.6808\n",
            "Epoch 47/50\n",
            "175/175 [==============================] - 20s 116ms/step - loss: 0.9370 - accuracy: 0.6695 - val_loss: 0.8871 - val_accuracy: 0.6907\n",
            "Epoch 48/50\n",
            "175/175 [==============================] - 20s 115ms/step - loss: 0.9298 - accuracy: 0.6736 - val_loss: 0.8868 - val_accuracy: 0.6911\n",
            "Epoch 49/50\n",
            "175/175 [==============================] - 22s 125ms/step - loss: 0.9220 - accuracy: 0.6786 - val_loss: 0.8831 - val_accuracy: 0.6934\n",
            "Epoch 50/50\n",
            "175/175 [==============================] - 21s 117ms/step - loss: 0.9141 - accuracy: 0.6824 - val_loss: 0.8749 - val_accuracy: 0.6993\n"
          ],
          "name": "stdout"
        }
      ]
    },
    {
      "cell_type": "markdown",
      "metadata": {
        "id": "pvP-85UdstUX"
      },
      "source": [
        "# Plotting loss and accuracy"
      ]
    },
    {
      "cell_type": "code",
      "metadata": {
        "id": "Iu7HPF7Ok5rX",
        "colab": {
          "base_uri": "https://localhost:8080/",
          "height": 282
        },
        "outputId": "81ba634d-5ab9-4fb3-f8e2-9f8f72a98357"
      },
      "source": [
        "#Plot the training and valiation loss\n",
        "'''The output of model.fit is a model.History object which is a record of metrics at each epoch. This can be used to graph the training and validation accuracy\n",
        "to see where they plateaued off and if overfitting can subsequently be avoided'''\n",
        "\n",
        "f,ax=plt.subplots(2,1) #Creates 2 subplots under 1 column\n",
        "\n",
        "#Assign the first subplot to graph training loss and validation loss\n",
        "ax[0].plot(model.history.history['loss'],color='b',label='Training Loss')\n",
        "ax[0].plot(model.history.history['val_loss'],color='r',label='Validation Loss')\n",
        "\n",
        "#Next lets plot the training accuracy and validation accuracy\n",
        "ax[1].plot(model.history.history['accuracy'],color='b',label='Training  Accuracy')\n",
        "ax[1].plot(model.history.history['val_accuracy'],color='r',label='Validation Accuracy')"
      ],
      "execution_count": null,
      "outputs": [
        {
          "output_type": "execute_result",
          "data": {
            "text/plain": [
              "[<matplotlib.lines.Line2D at 0x7f066240b3d0>]"
            ]
          },
          "metadata": {
            "tags": []
          },
          "execution_count": 22
        },
        {
          "output_type": "display_data",
          "data": {
            "image/png": "[encoded data removed]",
            "text/plain": [
              "<Figure size 432x288 with 2 Axes>"
            ]
          },
          "metadata": {
            "tags": [],
            "needs_background": "light"
          }
        }
      ]
    },
    {
      "cell_type": "markdown",
      "metadata": {
        "id": "Y9f4j97bsxBz"
      },
      "source": [
        "# Using the custom model to make a prediction on the test set"
      ]
    },
    {
      "cell_type": "code",
      "metadata": {
        "id": "8cz8xol3nwD-",
        "colab": {
          "base_uri": "https://localhost:8080/"
        },
        "outputId": "8912fc52-0eed-4c4f-eca8-752c9320b958"
      },
      "source": [
        "y_pred=model.predict_classes(X_test)\n",
        "y_true=np.argmax(y_test,axis=1)\n",
        "\n",
        "#Compute the confusion matrix\n",
        "confusion_mtx=confusion_matrix(y_true,y_pred)"
      ],
      "execution_count": null,
      "outputs": [
        {
          "output_type": "stream",
          "text": [
            "/usr/local/lib/python3.7/dist-packages/tensorflow/python/keras/engine/sequential.py:455: UserWarning: `model.predict_classes()` is deprecated and will be removed after 2021-01-01. Please use instead:* `np.argmax(model.predict(x), axis=-1)`,   if your model does multi-class classification   (e.g. if it uses a `softmax` last-layer activation).* `(model.predict(x) > 0.5).astype(\"int32\")`,   if your model does binary classification   (e.g. if it uses a `sigmoid` last-layer activation).\n",
            "  warnings.warn('`model.predict_classes()` is deprecated and '\n"
          ],
          "name": "stderr"
        }
      ]
    },
    {
      "cell_type": "markdown",
      "metadata": {
        "id": "3zV39PmQs5co"
      },
      "source": [
        "# Confusion Matrix for Custon CNN"
      ]
    },
    {
      "cell_type": "code",
      "metadata": {
        "colab": {
          "base_uri": "https://localhost:8080/",
          "height": 520
        },
        "id": "az1P1450pZm-",
        "outputId": "b129e5ed-ffa2-4014-bcf9-2038210550e8"
      },
      "source": [
        "plot_confusion_matrix(y_true, y_pred, classes=classes,title='Confusion matrix, without normalization')"
      ],
      "execution_count": null,
      "outputs": [
        {
          "output_type": "stream",
          "text": [
            "Confusion matrix, without normalization\n"
          ],
          "name": "stdout"
        },
        {
          "output_type": "execute_result",
          "data": {
            "text/plain": [
              "<matplotlib.axes._subplots.AxesSubplot at 0x7f06121016d0>"
            ]
          },
          "metadata": {
            "tags": []
          },
          "execution_count": 33
        },
        {
          "output_type": "display_data",
          "data": {
            "image/png": "[encoded data removed]",
            "text/plain": [
              "<Figure size 504x504 with 2 Axes>"
            ]
          },
          "metadata": {
            "tags": [],
            "needs_background": "light"
          }
        }
      ]
    },
    {
      "cell_type": "code",
      "metadata": {
        "id": "hxcONsLLpuRR"
      },
      "source": [
        ""
      ],
      "execution_count": null,
      "outputs": []
    }
  ]
}