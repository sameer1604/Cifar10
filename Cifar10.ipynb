{
  "nbformat": 4,
  "nbformat_minor": 0,
  "metadata": {
    "colab": {
      "name": "Cifar10",
      "provenance": [],
      "collapsed_sections": [],
      "include_colab_link": true
    },
    "kernelspec": {
      "name": "python3",
      "display_name": "Python 3"
    },
    "language_info": {
      "name": "python"
    },
    "accelerator": "GPU"
  },
  "cells": [
    {
      "cell_type": "markdown",
      "metadata": {
        "id": "view-in-github",
        "colab_type": "text"
      },
      "source": [
        "<a href=\"https://colab.research.google.com/github/sameer1604/Cifar10/blob/main/Cifar10.ipynb\" target=\"_parent\"><img src=\"https://colab.research.google.com/assets/colab-badge.svg\" alt=\"Open In Colab\"/></a>"
      ]
    },
    {
      "cell_type": "markdown",
      "metadata": {
        "id": "BcraY0ioqeML"
      },
      "source": [
        "# Importing Dependencies"
      ]
    },
    {
      "cell_type": "code",
      "metadata": {
        "id": "6bWzlixCGHgC"
      },
      "source": [
        "import tensorflow as tf\n",
        "import seaborn as sns\n",
        "from tensorflow import keras\n",
        "from sklearn.utils.multiclass import unique_labels\n",
        "import matplotlib.pyplot as plt\n",
        "%matplotlib inline\n",
        "import numpy as np\n",
        "import itertools\n",
        "from sklearn.preprocessing import OneHotEncoder\n",
        "from sklearn.model_selection import train_test_split\n",
        "from sklearn.metrics import confusion_matrix\n",
        "from keras import Sequential\n",
        "from tensorflow.keras.applications import VGG19\n",
        "from keras.preprocessing.image import ImageDataGenerator\n",
        "from keras.optimizers import SGD,Adam\n",
        "from keras.callbacks import ReduceLROnPlateau\n",
        "from keras.layers import Flatten,Dense,BatchNormalization,Activation,Dropout\n",
        "from tensorflow.keras.utils import to_categorical\n"
      ],
      "execution_count": null,
      "outputs": []
    },
    {
      "cell_type": "markdown",
      "metadata": {
        "id": "oTyFw4dDqusH"
      },
      "source": [
        "# Getting the Dataset & splitting it"
      ]
    },
    {
      "cell_type": "code",
      "metadata": {
        "id": "0oeV4iypAEbb"
      },
      "source": [
        "(X_train, y_train), (X_test, y_test)=keras.datasets.cifar10.load_data()"
      ],
      "execution_count": null,
      "outputs": []
    },
    {
      "cell_type": "code",
      "metadata": {
        "id": "pfItMBW17Ogf"
      },
      "source": [
        "X_train,X_val,y_train,y_val=train_test_split(X_train,y_train,test_size=.3)"
      ],
      "execution_count": null,
      "outputs": []
    },
    {
      "cell_type": "code",
      "metadata": {
        "colab": {
          "base_uri": "https://localhost:8080/"
        },
        "id": "JlPFO7jvAMt8",
        "outputId": "357ea119-400e-4506-e936-7ba6b6e2e38f"
      },
      "source": [
        "print((X_train.shape,y_train.shape))\n",
        "print((X_val.shape,y_val.shape))\n",
        "print((X_test.shape,y_test.shape))"
      ],
      "execution_count": null,
      "outputs": [
        {
          "output_type": "stream",
          "text": [
            "((35000, 32, 32, 3), (35000, 1))\n",
            "((15000, 32, 32, 3), (15000, 1))\n",
            "((10000, 32, 32, 3), (10000, 1))\n"
          ],
          "name": "stdout"
        }
      ]
    },
    {
      "cell_type": "code",
      "metadata": {
        "id": "_ZnjcLjbHuy2"
      },
      "source": [
        "y_train=y_train.flatten()\n",
        "y_val=y_val.flatten()\n",
        "y_test=y_test.flatten()"
      ],
      "execution_count": null,
      "outputs": []
    },
    {
      "cell_type": "markdown",
      "metadata": {
        "id": "dhmnW49Lq9DV"
      },
      "source": [
        "# Distribution of data in classes"
      ]
    },
    {
      "cell_type": "code",
      "metadata": {
        "colab": {
          "base_uri": "https://localhost:8080/",
          "height": 652
        },
        "id": "ERNXIRE8e6_G",
        "outputId": "21dbb7c0-6cbd-4e83-c315-5ad21134a0b1"
      },
      "source": [
        "classes = ['airplane', 'automobile', 'bird', 'cat', 'deer', 'dog', 'frog', 'horse', 'ship', 'truck']\n",
        "\n",
        "plt.figure(figsize=(10,7))\n",
        "p = sns.countplot(y_train.flatten())\n",
        "p.set(xticklabels=classes)"
      ],
      "execution_count": null,
      "outputs": [
        {
          "output_type": "stream",
          "text": [
            "/usr/local/lib/python3.7/dist-packages/seaborn/_decorators.py:43: FutureWarning: Pass the following variable as a keyword arg: x. From version 0.12, the only valid positional argument will be `data`, and passing other arguments without an explicit keyword will result in an error or misinterpretation.\n",
            "  FutureWarning\n"
          ],
          "name": "stderr"
        },
        {
          "output_type": "execute_result",
          "data": {
            "text/plain": [
              "[[Text(0, 0, 'airplane'),\n",
              "  Text(0, 0, 'automobile'),\n",
              "  Text(0, 0, 'bird'),\n",
              "  Text(0, 0, 'cat'),\n",
              "  Text(0, 0, 'deer'),\n",
              "  Text(0, 0, 'dog'),\n",
              "  Text(0, 0, 'frog'),\n",
              "  Text(0, 0, 'horse'),\n",
              "  Text(0, 0, 'ship'),\n",
              "  Text(0, 0, 'truck')]]"
            ]
          },
          "metadata": {
            "tags": []
          },
          "execution_count": 6
        },
        {
          "output_type": "display_data",
          "data": {
            "image/png": "[encoded data removed]",
            "text/plain": [
              "<Figure size 720x504 with 1 Axes>"
            ]
          },
          "metadata": {
            "tags": [],
            "needs_background": "light"
          }
        }
      ]
    },
    {
      "cell_type": "markdown",
      "metadata": {
        "id": "Hx-LwveBrIux"
      },
      "source": [
        "# Data Normalization & Augmentation"
      ]
    },
    {
      "cell_type": "code",
      "metadata": {
        "id": "9IqCQ58efb02"
      },
      "source": [
        "input_shape = (32, 32, 3)\n",
        "\n",
        "X_train=X_train / 255.0\n",
        "X_val=X_val / 255.0\n",
        "X_test=X_test / 255.0"
      ],
      "execution_count": null,
      "outputs": []
    },
    {
      "cell_type": "code",
      "metadata": {
        "colab": {
          "base_uri": "https://localhost:8080/"
        },
        "id": "cONG7HrqgEul",
        "outputId": "2ae39488-8bce-4ae6-b816-8e0f07ff96e5"
      },
      "source": [
        "X_train.shape"
      ],
      "execution_count": null,
      "outputs": [
        {
          "output_type": "execute_result",
          "data": {
            "text/plain": [
              "(35000, 32, 32, 3)"
            ]
          },
          "metadata": {
            "tags": []
          },
          "execution_count": 8
        }
      ]
    },
    {
      "cell_type": "code",
      "metadata": {
        "id": "r5nHqz7t8JhV"
      },
      "source": [
        "train_generator = ImageDataGenerator(\n",
        "                                    rotation_range=2, \n",
        "                                    horizontal_flip=True,\n",
        "                                    zoom_range=.1 )\n",
        "\n",
        "val_generator = ImageDataGenerator(\n",
        "                                    rotation_range=2, \n",
        "                                    horizontal_flip=True,\n",
        "                                    zoom_range=.1)\n",
        "\n",
        "test_generator = ImageDataGenerator(\n",
        "                                    rotation_range=2, \n",
        "                                    horizontal_flip= True,\n",
        "                                    zoom_range=.1) "
      ],
      "execution_count": null,
      "outputs": []
    },
    {
      "cell_type": "code",
      "metadata": {
        "id": "GjxvkC4a8OWq"
      },
      "source": [
        "train_generator.fit(X_train)\n",
        "val_generator.fit(X_val)\n",
        "test_generator.fit(X_test)"
      ],
      "execution_count": null,
      "outputs": []
    },
    {
      "cell_type": "markdown",
      "metadata": {
        "id": "4j7-BCoJrOz1"
      },
      "source": [
        "# Hot encoding the labels to categorical"
      ]
    },
    {
      "cell_type": "code",
      "metadata": {
        "id": "D_ab0TZXgWjK"
      },
      "source": [
        "y_train = tf.one_hot(y_train.astype(np.int32), depth=10)\n",
        "y_test = tf.one_hot(y_test.astype(np.int32), depth=10)\n",
        "y_val= tf.one_hot(y_val.astype(np.int32), depth=10)"
      ],
      "execution_count": null,
      "outputs": []
    },
    {
      "cell_type": "code",
      "metadata": {
        "colab": {
          "base_uri": "https://localhost:8080/"
        },
        "id": "exTjCLxpgbNb",
        "outputId": "8e0c4320-0ffa-4d16-c226-ab0a4f07ab94"
      },
      "source": [
        "y_train"
      ],
      "execution_count": null,
      "outputs": [
        {
          "output_type": "execute_result",
          "data": {
            "text/plain": [
              "<tf.Tensor: shape=(35000, 10), dtype=float32, numpy=\n",
              "array([[0., 0., 0., ..., 0., 0., 0.],\n",
              "       [0., 0., 0., ..., 0., 0., 0.],\n",
              "       [0., 0., 0., ..., 0., 0., 1.],\n",
              "       ...,\n",
              "       [1., 0., 0., ..., 0., 0., 0.],\n",
              "       [0., 0., 0., ..., 1., 0., 0.],\n",
              "       [0., 0., 0., ..., 0., 0., 0.]], dtype=float32)>"
            ]
          },
          "metadata": {
            "tags": []
          },
          "execution_count": 12
        }
      ]
    },
    {
      "cell_type": "markdown",
      "metadata": {
        "id": "pxl_bhterUsI"
      },
      "source": [
        "# Plotting the images\n",
        "Below the image is shown of an airplane."
      ]
    },
    {
      "cell_type": "code",
      "metadata": {
        "colab": {
          "base_uri": "https://localhost:8080/",
          "height": 283
        },
        "id": "Q5ebVo9pgfaw",
        "outputId": "c19ace4a-6c3a-4d8a-caa0-684badfec82d"
      },
      "source": [
        "plt.imshow(X_train[55])\n",
        "print(y_train[55])"
      ],
      "execution_count": null,
      "outputs": [
        {
          "output_type": "stream",
          "text": [
            "tf.Tensor([0. 0. 0. 0. 1. 0. 0. 0. 0. 0.], shape=(10,), dtype=float32)\n"
          ],
          "name": "stdout"
        },
        {
          "output_type": "display_data",
          "data": {
            "image/png": "[encoded data removed]",
            "text/plain": [
              "<Figure size 432x288 with 1 Axes>"
            ]
          },
          "metadata": {
            "tags": [],
            "needs_background": "light"
          }
        }
      ]
    },
    {
      "cell_type": "markdown",
      "metadata": {
        "id": "LtzDnWp0rcCj"
      },
      "source": [
        "## Importing the VGG19 model\n",
        "We'll be using the VGG19 model pretrained on ImageNet dataset."
      ]
    },
    {
      "cell_type": "code",
      "metadata": {
        "id": "B6WLkp0T875C",
        "colab": {
          "base_uri": "https://localhost:8080/"
        },
        "outputId": "0d61454a-6ed9-4513-95d8-31531e6e04ab"
      },
      "source": [
        "base_model_1 = VGG19(include_top=False,weights='imagenet',input_shape=(32,32,3),classes=y_train.shape[1])"
      ],
      "execution_count": null,
      "outputs": [
        {
          "output_type": "stream",
          "text": [
            "Downloading data from https://storage.googleapis.com/tensorflow/keras-applications/vgg19/vgg19_weights_tf_dim_ordering_tf_kernels_notop.h5\n",
            "80142336/80134624 [==============================] - 0s 0us/step\n"
          ],
          "name": "stdout"
        }
      ]
    },
    {
      "cell_type": "markdown",
      "metadata": {
        "id": "7aIABU-TrpQE"
      },
      "source": [
        "# Adding extra layers to it and compiling the model"
      ]
    },
    {
      "cell_type": "code",
      "metadata": {
        "id": "kNgqi_xR89lQ"
      },
      "source": [
        "model_1= Sequential()\n",
        "model_1.add(base_model_1) #Adds the base model (in this case vgg19 to model_1)\n",
        "model_1.add(Flatten())\n",
        "model_1.add(Dense(1024,activation=('relu'),input_dim=512))\n",
        "model_1.add(Dense(512,activation=('relu'))) \n",
        "model_1.add(Dropout(0.3))\n",
        "model_1.add(Dense(256,activation=('relu'))) \n",
        "model_1.add(Dropout(0.3))\n",
        "model_1.add(Dense(128,activation=('relu')))\n",
        "model_1.add(Dropout(0.3))\n",
        "model_1.add(Dense(10,activation=('softmax')))\n",
        "learn_rate=.001\n",
        "\n",
        "sgd=SGD(learning_rate=learn_rate,momentum=.9,nesterov=False)\n",
        "model_1.compile(optimizer=sgd,loss='categorical_crossentropy',metrics=['accuracy'])\n"
      ],
      "execution_count": null,
      "outputs": []
    },
    {
      "cell_type": "code",
      "metadata": {
        "id": "xPz3i9mxHGvM"
      },
      "source": [
        "lrr= ReduceLROnPlateau(\n",
        "                       monitor='val_accuracy', #Metric to be measured\n",
        "                       factor=.01, #Factor by which learning rate will be reduced\n",
        "                       patience=3,  #No. of epochs after which if there is no improvement in the val_acc, the learning rate is reduced\n",
        "                       min_lr=1e-5)"
      ],
      "execution_count": null,
      "outputs": []
    },
    {
      "cell_type": "markdown",
      "metadata": {
        "id": "kivoVYDsrzDX"
      },
      "source": [
        "# Training VGG19 on the CIFAR-10 dataset"
      ]
    },
    {
      "cell_type": "code",
      "metadata": {
        "colab": {
          "base_uri": "https://localhost:8080/"
        },
        "id": "W31P6xWF9Db7",
        "outputId": "d05f6e6c-d6bb-4d69-9ea9-d64f8580fc22"
      },
      "source": [
        "batch_size=200\n",
        "try3=model_1.fit(train_generator.flow(X_train,y_train,batch_size=batch_size),\n",
        "                      epochs=10,\n",
        "                      steps_per_epoch=X_train.shape[0]//batch_size,\n",
        "                      validation_data=val_generator.flow(X_val,y_val,batch_size=batch_size),validation_steps=X_val.shape[0]//batch_size,callbacks=[lrr],\n",
        "                      verbose=1)\n"
      ],
      "execution_count": null,
      "outputs": [
        {
          "output_type": "stream",
          "text": [
            "Epoch 1/10\n",
            "175/175 [==============================] - 50s 165ms/step - loss: 2.1743 - accuracy: 0.1845 - val_loss: 1.3172 - val_accuracy: 0.5325\n",
            "Epoch 2/10\n",
            "175/175 [==============================] - 26s 150ms/step - loss: 1.3634 - accuracy: 0.5223 - val_loss: 0.9586 - val_accuracy: 0.6747\n",
            "Epoch 3/10\n",
            "175/175 [==============================] - 27s 156ms/step - loss: 1.0615 - accuracy: 0.6510 - val_loss: 0.8109 - val_accuracy: 0.7306\n",
            "Epoch 4/10\n",
            "175/175 [==============================] - 27s 154ms/step - loss: 0.9379 - accuracy: 0.6966 - val_loss: 0.7888 - val_accuracy: 0.7325\n",
            "Epoch 5/10\n",
            "175/175 [==============================] - 26s 150ms/step - loss: 0.8407 - accuracy: 0.7273 - val_loss: 0.7129 - val_accuracy: 0.7585\n",
            "Epoch 6/10\n",
            "175/175 [==============================] - 26s 151ms/step - loss: 0.7568 - accuracy: 0.7575 - val_loss: 0.7096 - val_accuracy: 0.7692\n",
            "Epoch 7/10\n",
            "175/175 [==============================] - 26s 151ms/step - loss: 0.7205 - accuracy: 0.7683 - val_loss: 0.6598 - val_accuracy: 0.7802\n",
            "Epoch 8/10\n",
            "175/175 [==============================] - 27s 156ms/step - loss: 0.6760 - accuracy: 0.7849 - val_loss: 0.6608 - val_accuracy: 0.7753\n",
            "Epoch 9/10\n",
            "175/175 [==============================] - 28s 159ms/step - loss: 0.6201 - accuracy: 0.8013 - val_loss: 0.5870 - val_accuracy: 0.8056\n",
            "Epoch 10/10\n",
            "175/175 [==============================] - 26s 149ms/step - loss: 0.5890 - accuracy: 0.8104 - val_loss: 0.5909 - val_accuracy: 0.8079\n"
          ],
          "name": "stdout"
        }
      ]
    },
    {
      "cell_type": "markdown",
      "metadata": {
        "id": "NquVA3uGr9Xb"
      },
      "source": [
        "# Plotting the loss and accuracy graphs for training and validation"
      ]
    },
    {
      "cell_type": "code",
      "metadata": {
        "id": "jFECxo03AyWJ",
        "colab": {
          "base_uri": "https://localhost:8080/",
          "height": 286
        },
        "outputId": "f172d610-52ae-4ec1-ea47-8d314572bc03"
      },
      "source": [
        "#Plot the training and valiation loss\n",
        "'''The output of model.fit is a model.History object which is a record of metrics at each epoch. This can be used to graph the training and validation accuracy\n",
        "to see where they plateaued off and if overfitting can subsequently be avoided'''\n",
        "\n",
        "f,ax=plt.subplots(2,1) #Creates 2 subplots under 1 column\n",
        "\n",
        "#Assign the first subplot to graph training loss and validation loss\n",
        "ax[0].plot(model_1.history.history['loss'],color='b',label='Training Loss')\n",
        "ax[0].plot(model_1.history.history['val_loss'],color='r',label='Validation Loss')\n",
        "\n",
        "#Next lets plot the training accuracy and validation accuracy\n",
        "ax[1].plot(model_1.history.history['accuracy'],color='b',label='Training  Accuracy')\n",
        "ax[1].plot(model_1.history.history['val_accuracy'],color='r',label='Validation Accuracy')"
      ],
      "execution_count": null,
      "outputs": [
        {
          "output_type": "execute_result",
          "data": {
            "text/plain": [
              "[<matplotlib.lines.Line2D at 0x7f0690144950>]"
            ]
          },
          "metadata": {
            "tags": []
          },
          "execution_count": 18
        },
        {
          "output_type": "display_data",
          "data": {
            "image/png": "[encoded data removed]",
            "text/plain": [
              "<Figure size 432x288 with 2 Axes>"
            ]
          },
          "metadata": {
            "tags": [],
            "needs_background": "light"
          }
        }
      ]
    },
    {
      "cell_type": "markdown",
      "metadata": {
        "id": "i_1k8DKEsG5x"
      },
      "source": [
        "# Defining the function for the confusion matrix"
      ]
    },
    {
      "cell_type": "code",
      "metadata": {
        "id": "0zO50Jq6oJRz"
      },
      "source": [
        "def plot_confusion_matrix(y_true, y_pred, classes,\n",
        "                          normalize=False,\n",
        "                          title=None,\n",
        "                          cmap=plt.cm.Blues):\n",
        "    \"\"\"\n",
        "    This function prints and plots the confusion matrix.\n",
        "    Normalization can be applied by setting `normalize=True`.\n",
        "    \"\"\"\n",
        "    if not title:\n",
        "        if normalize:\n",
        "            title = 'Normalized confusion matrix'\n",
        "        else:\n",
        "            title = 'Confusion matrix, without normalization'\n",
        "\n",
        "    # Compute confusion matrix\n",
        "    cm = confusion_matrix(y_true, y_pred)\n",
        "    if normalize:\n",
        "        cm = cm.astype('float') / cm.sum(axis=1)[:, np.newaxis]\n",
        "        print(\"Normalized confusion matrix\")\n",
        "    else:\n",
        "        print('Confusion matrix, without normalization')\n",
        "    fig, ax = plt.subplots(figsize=(7,7))\n",
        "    im = ax.imshow(cm, interpolation='nearest', cmap=cmap)\n",
        "    ax.figure.colorbar(im, ax=ax)\n",
        "    # We want to show all ticks...\n",
        "    ax.set(xticks=np.arange(cm.shape[1]),\n",
        "           yticks=np.arange(cm.shape[0]),\n",
        "           # ... and label them with the respective list entries\n",
        "           xticklabels=classes, yticklabels=classes,\n",
        "           title=title,\n",
        "           ylabel='True label',\n",
        "           xlabel='Predicted label')\n",
        "\n",
        "    # Rotate the tick labels and set their alignment.\n",
        "    plt.setp(ax.get_xticklabels(), rotation=45, ha=\"right\",\n",
        "             rotation_mode=\"anchor\")\n",
        "    # Loop over data dimensions and create text annotations.\n",
        "    fmt = '.2f' if normalize else 'd'\n",
        "    thresh = cm.max() / 2.\n",
        "    for i in range(cm.shape[0]):\n",
        "        for j in range(cm.shape[1]):\n",
        "            ax.text(j, i, format(cm[i, j], fmt),\n",
        "                    ha=\"center\", va=\"center\",\n",
        "                    color=\"white\" if cm[i, j] > thresh else \"black\")\n",
        "    fig.tight_layout()\n",
        "    return ax\n",
        "\n",
        "    np.set_printoptions(precision=2)"
      ],
      "execution_count": null,
      "outputs": []
    },
    {
      "cell_type": "markdown",
      "metadata": {
        "id": "C4MII2susOVr"
      },
      "source": [
        "# Using the trained VGG19 model to make a prediction on the test set"
      ]
    },
    {
      "cell_type": "code",
      "metadata": {
        "id": "-7rXXs4KPHrv",
        "colab": {
          "base_uri": "https://localhost:8080/"
        },
        "outputId": "5960512d-82e5-42fc-8e79-0e88bf1cd30c"
      },
      "source": [
        "y_pred=model_1.predict_classes(X_test)\n",
        "y_true=np.argmax(y_test,axis=1)\n",
        "\n",
        "#Compute the confusion matrix\n",
        "confusion_mtx=confusion_matrix(y_true,y_pred)"
      ],
      "execution_count": null,
      "outputs": [
        {
          "output_type": "stream",
          "text": [
            "/usr/local/lib/python3.7/dist-packages/keras/engine/sequential.py:450: UserWarning: `model.predict_classes()` is deprecated and will be removed after 2021-01-01. Please use instead:* `np.argmax(model.predict(x), axis=-1)`,   if your model does multi-class classification   (e.g. if it uses a `softmax` last-layer activation).* `(model.predict(x) > 0.5).astype(\"int32\")`,   if your model does binary classification   (e.g. if it uses a `sigmoid` last-layer activation).\n",
            "  warnings.warn('`model.predict_classes()` is deprecated and '\n"
          ],
          "name": "stderr"
        }
      ]
    },
    {
      "cell_type": "markdown",
      "metadata": {
        "id": "bx1WXgBYsVhZ"
      },
      "source": [
        "# Confusion Matrix for VGG19 "
      ]
    },
    {
      "cell_type": "code",
      "metadata": {
        "colab": {
          "base_uri": "https://localhost:8080/",
          "height": 520
        },
        "id": "JnEwn4r7pELq",
        "outputId": "5090ec6f-4902-4c77-9437-0476e7ea9f09"
      },
      "source": [
        "plot_confusion_matrix(y_true, y_pred, classes=classes,title='Confusion matrix, without normalization')"
      ],
      "execution_count": null,
      "outputs": [
        {
          "output_type": "stream",
          "text": [
            "Confusion matrix, without normalization\n"
          ],
          "name": "stdout"
        },
        {
          "output_type": "execute_result",
          "data": {
            "text/plain": [
              "<matplotlib.axes._subplots.AxesSubplot at 0x7f0662239c90>"
            ]
          },
          "metadata": {
            "tags": []
          },
          "execution_count": 28
        },
        {
          "output_type": "display_data",
          "data": {
            "image/png": "[encoded data removed]",
            "text/plain": [
              "<Figure size 504x504 with 2 Axes>"
            ]
          },
          "metadata": {
            "tags": [],
            "needs_background": "light"
          }
        }
      ]
    },
    {
      "cell_type": "markdown",
      "metadata": {
        "id": "4tp2aYk6scx3"
      },
      "source": [
        "# Developing another custom CNN and compiling it"
      ]
    },
    {
      "cell_type": "code",
      "metadata": {
        "id": "4yWd8Uk2SBac"
      },
      "source": [
        "model = tf.keras.models.Sequential([\n",
        "    tf.keras.layers.Conv2D(32, 3, padding='same', input_shape=X_train.shape[1:], activation='relu'),\n",
        "    tf.keras.layers.Conv2D(32, 3, activation='relu'),\n",
        "    tf.keras.layers.MaxPooling2D(),\n",
        "    tf.keras.layers.Dropout(0.25),\n",
        "\n",
        "    tf.keras.layers.Conv2D(64, 3, padding='same', activation='relu'),\n",
        "    tf.keras.layers.Conv2D(64, 3, activation='relu'),\n",
        "    tf.keras.layers.MaxPooling2D(),\n",
        "    tf.keras.layers.Dropout(0.25),\n",
        "\n",
        "    tf.keras.layers.Flatten(),\n",
        "    tf.keras.layers.Dense(512, activation='relu'),\n",
        "    tf.keras.layers.Dropout(0.5),\n",
        "    tf.keras.layers.Dense(10, activation='softmax'),\n",
        "])\n",
        "\n",
        "model.compile(optimizer=tf.keras.optimizers.RMSprop(learning_rate=0.001, decay=1e-06),\n",
        "            loss='categorical_crossentropy', metrics=['accuracy'])"
      ],
      "execution_count": null,
      "outputs": []
    },
    {
      "cell_type": "markdown",
      "metadata": {
        "id": "wToCjWT5smYh"
      },
      "source": [
        "# Training the custom CNN model on the data"
      ]
    },
    {
      "cell_type": "code",
      "metadata": {
        "id": "zv1LEouJkqjH",
        "colab": {
          "base_uri": "https://localhost:8080/"
        },
        "outputId": "a33b3388-d75e-4b4e-b8b8-3ffd02ab9993"
      },
      "source": [
        "batch_size=100\n",
        "try3=model.fit(train_generator.flow(X_train,y_train,batch_size=batch_size),\n",
        "                      epochs=50,\n",
        "                      steps_per_epoch=X_train.shape[0]//batch_size,\n",
        "                      validation_data=val_generator.flow(X_val,y_val,batch_size=batch_size),validation_steps=X_val.shape[0]//batch_size,callbacks=[lrr],\n",
        "                      verbose=1)"
      ],
      "execution_count": null,
      "outputs": [
        {
          "output_type": "stream",
          "text": [
            "Epoch 1/50\n",
            "350/350 [==============================] - 52s 59ms/step - loss: 1.8160 - accuracy: 0.3453 - val_loss: 1.4707 - val_accuracy: 0.4733\n",
            "Epoch 2/50\n",
            "350/350 [==============================] - 20s 57ms/step - loss: 1.4226 - accuracy: 0.4928 - val_loss: 1.3890 - val_accuracy: 0.5079\n",
            "Epoch 3/50\n",
            "350/350 [==============================] - 20s 58ms/step - loss: 1.2517 - accuracy: 0.5576 - val_loss: 1.3103 - val_accuracy: 0.5453\n",
            "Epoch 4/50\n",
            "350/350 [==============================] - 21s 60ms/step - loss: 1.1272 - accuracy: 0.6057 - val_loss: 1.0538 - val_accuracy: 0.6334\n",
            "Epoch 5/50\n",
            "350/350 [==============================] - 20s 57ms/step - loss: 1.0365 - accuracy: 0.6353 - val_loss: 1.0040 - val_accuracy: 0.6455\n",
            "Epoch 6/50\n",
            "350/350 [==============================] - 20s 57ms/step - loss: 0.9785 - accuracy: 0.6567 - val_loss: 0.9814 - val_accuracy: 0.6629\n",
            "Epoch 7/50\n",
            "350/350 [==============================] - 21s 61ms/step - loss: 0.9259 - accuracy: 0.6788 - val_loss: 0.9120 - val_accuracy: 0.6879\n",
            "Epoch 8/50\n",
            "350/350 [==============================] - 20s 57ms/step - loss: 0.8802 - accuracy: 0.6967 - val_loss: 0.8222 - val_accuracy: 0.7218\n",
            "Epoch 9/50\n",
            "350/350 [==============================] - 20s 56ms/step - loss: 0.8496 - accuracy: 0.7046 - val_loss: 0.8226 - val_accuracy: 0.7160\n",
            "Epoch 10/50\n",
            "350/350 [==============================] - 21s 61ms/step - loss: 0.8213 - accuracy: 0.7164 - val_loss: 0.8573 - val_accuracy: 0.7018\n",
            "Epoch 11/50\n",
            "350/350 [==============================] - 20s 58ms/step - loss: 0.8040 - accuracy: 0.7223 - val_loss: 0.7821 - val_accuracy: 0.7307\n",
            "Epoch 12/50\n",
            "350/350 [==============================] - 20s 57ms/step - loss: 0.7853 - accuracy: 0.7286 - val_loss: 0.7520 - val_accuracy: 0.7442\n",
            "Epoch 13/50\n",
            "350/350 [==============================] - 21s 60ms/step - loss: 0.7810 - accuracy: 0.7313 - val_loss: 0.7322 - val_accuracy: 0.7497\n",
            "Epoch 14/50\n",
            "350/350 [==============================] - 21s 60ms/step - loss: 0.7581 - accuracy: 0.7403 - val_loss: 0.7575 - val_accuracy: 0.7491\n",
            "Epoch 15/50\n",
            "350/350 [==============================] - 21s 61ms/step - loss: 0.7625 - accuracy: 0.7396 - val_loss: 0.7624 - val_accuracy: 0.7475\n",
            "Epoch 16/50\n",
            "350/350 [==============================] - 20s 57ms/step - loss: 0.7585 - accuracy: 0.7424 - val_loss: 0.7698 - val_accuracy: 0.7440\n",
            "Epoch 17/50\n",
            "350/350 [==============================] - 20s 56ms/step - loss: 0.6697 - accuracy: 0.7705 - val_loss: 0.6879 - val_accuracy: 0.7737\n",
            "Epoch 18/50\n",
            "350/350 [==============================] - 21s 61ms/step - loss: 0.6390 - accuracy: 0.7786 - val_loss: 0.6765 - val_accuracy: 0.7734\n",
            "Epoch 19/50\n",
            "350/350 [==============================] - 20s 58ms/step - loss: 0.6326 - accuracy: 0.7815 - val_loss: 0.6774 - val_accuracy: 0.7730\n",
            "Epoch 20/50\n",
            "350/350 [==============================] - 20s 57ms/step - loss: 0.6286 - accuracy: 0.7804 - val_loss: 0.6636 - val_accuracy: 0.7773\n",
            "Epoch 21/50\n",
            "350/350 [==============================] - 21s 60ms/step - loss: 0.6312 - accuracy: 0.7802 - val_loss: 0.6674 - val_accuracy: 0.7797\n",
            "Epoch 22/50\n",
            "350/350 [==============================] - 21s 59ms/step - loss: 0.6223 - accuracy: 0.7835 - val_loss: 0.6635 - val_accuracy: 0.7782\n",
            "Epoch 23/50\n",
            "350/350 [==============================] - 20s 57ms/step - loss: 0.6158 - accuracy: 0.7891 - val_loss: 0.6594 - val_accuracy: 0.7800\n",
            "Epoch 24/50\n",
            "350/350 [==============================] - 21s 59ms/step - loss: 0.6192 - accuracy: 0.7880 - val_loss: 0.6658 - val_accuracy: 0.7755\n",
            "Epoch 25/50\n",
            "350/350 [==============================] - 21s 59ms/step - loss: 0.6123 - accuracy: 0.7904 - val_loss: 0.6601 - val_accuracy: 0.7793\n",
            "Epoch 26/50\n",
            "350/350 [==============================] - 20s 57ms/step - loss: 0.6141 - accuracy: 0.7895 - val_loss: 0.6596 - val_accuracy: 0.7805\n",
            "Epoch 27/50\n",
            "350/350 [==============================] - 20s 58ms/step - loss: 0.6118 - accuracy: 0.7907 - val_loss: 0.6607 - val_accuracy: 0.7793\n",
            "Epoch 28/50\n",
            "350/350 [==============================] - 22s 62ms/step - loss: 0.6149 - accuracy: 0.7858 - val_loss: 0.6558 - val_accuracy: 0.7805\n",
            "Epoch 29/50\n",
            "350/350 [==============================] - 21s 59ms/step - loss: 0.6118 - accuracy: 0.7887 - val_loss: 0.6574 - val_accuracy: 0.7785\n",
            "Epoch 30/50\n",
            "350/350 [==============================] - 21s 59ms/step - loss: 0.6128 - accuracy: 0.7913 - val_loss: 0.6590 - val_accuracy: 0.7775\n",
            "Epoch 31/50\n",
            "350/350 [==============================] - 20s 57ms/step - loss: 0.6049 - accuracy: 0.7911 - val_loss: 0.6588 - val_accuracy: 0.7790\n",
            "Epoch 32/50\n",
            "350/350 [==============================] - 21s 59ms/step - loss: 0.6047 - accuracy: 0.7898 - val_loss: 0.6586 - val_accuracy: 0.7811\n",
            "Epoch 33/50\n",
            "350/350 [==============================] - 21s 60ms/step - loss: 0.6081 - accuracy: 0.7921 - val_loss: 0.6554 - val_accuracy: 0.7781\n",
            "Epoch 34/50\n",
            "350/350 [==============================] - 20s 57ms/step - loss: 0.6094 - accuracy: 0.7901 - val_loss: 0.6599 - val_accuracy: 0.7800\n",
            "Epoch 35/50\n",
            "350/350 [==============================] - 20s 57ms/step - loss: 0.5976 - accuracy: 0.7927 - val_loss: 0.6595 - val_accuracy: 0.7793\n",
            "Epoch 36/50\n",
            "350/350 [==============================] - 21s 61ms/step - loss: 0.6066 - accuracy: 0.7913 - val_loss: 0.6569 - val_accuracy: 0.7806\n",
            "Epoch 37/50\n",
            "350/350 [==============================] - 20s 57ms/step - loss: 0.6007 - accuracy: 0.7934 - val_loss: 0.6528 - val_accuracy: 0.7831\n",
            "Epoch 38/50\n",
            "350/350 [==============================] - 20s 56ms/step - loss: 0.5992 - accuracy: 0.7952 - val_loss: 0.6515 - val_accuracy: 0.7807\n",
            "Epoch 39/50\n",
            "350/350 [==============================] - 21s 61ms/step - loss: 0.6031 - accuracy: 0.7919 - val_loss: 0.6514 - val_accuracy: 0.7826\n",
            "Epoch 40/50\n",
            "350/350 [==============================] - 20s 58ms/step - loss: 0.6025 - accuracy: 0.7938 - val_loss: 0.6611 - val_accuracy: 0.7807\n",
            "Epoch 41/50\n",
            "350/350 [==============================] - 20s 56ms/step - loss: 0.5998 - accuracy: 0.7954 - val_loss: 0.6472 - val_accuracy: 0.7845\n",
            "Epoch 42/50\n",
            "350/350 [==============================] - 21s 60ms/step - loss: 0.6012 - accuracy: 0.7927 - val_loss: 0.6506 - val_accuracy: 0.7800\n",
            "Epoch 43/50\n",
            "350/350 [==============================] - 21s 59ms/step - loss: 0.5944 - accuracy: 0.7959 - val_loss: 0.6550 - val_accuracy: 0.7817\n",
            "Epoch 44/50\n",
            "350/350 [==============================] - 20s 57ms/step - loss: 0.5962 - accuracy: 0.7936 - val_loss: 0.6526 - val_accuracy: 0.7825\n",
            "Epoch 45/50\n",
            "350/350 [==============================] - 21s 59ms/step - loss: 0.5976 - accuracy: 0.7949 - val_loss: 0.6539 - val_accuracy: 0.7819\n",
            "Epoch 46/50\n",
            "350/350 [==============================] - 21s 60ms/step - loss: 0.5951 - accuracy: 0.7951 - val_loss: 0.6536 - val_accuracy: 0.7833\n",
            "Epoch 47/50\n",
            "350/350 [==============================] - 21s 61ms/step - loss: 0.5964 - accuracy: 0.7955 - val_loss: 0.6577 - val_accuracy: 0.7803\n",
            "Epoch 48/50\n",
            "350/350 [==============================] - 20s 58ms/step - loss: 0.5938 - accuracy: 0.7959 - val_loss: 0.6497 - val_accuracy: 0.7770\n",
            "Epoch 49/50\n",
            "350/350 [==============================] - 20s 57ms/step - loss: 0.5966 - accuracy: 0.7948 - val_loss: 0.6470 - val_accuracy: 0.7828\n",
            "Epoch 50/50\n",
            "350/350 [==============================] - 21s 60ms/step - loss: 0.5938 - accuracy: 0.7964 - val_loss: 0.6518 - val_accuracy: 0.7823\n"
          ],
          "name": "stdout"
        }
      ]
    },
    {
      "cell_type": "markdown",
      "metadata": {
        "id": "pvP-85UdstUX"
      },
      "source": [
        "# Plotting loss and accuracy"
      ]
    },
    {
      "cell_type": "code",
      "metadata": {
        "id": "Iu7HPF7Ok5rX",
        "colab": {
          "base_uri": "https://localhost:8080/",
          "height": 282
        },
        "outputId": "9b0ffede-8630-48ba-fa3c-dcca6ab31205"
      },
      "source": [
        "#Plot the training and valiation loss\n",
        "'''The output of model.fit is a model.History object which is a record of metrics at each epoch. This can be used to graph the training and validation accuracy\n",
        "to see where they plateaued off and if overfitting can subsequently be avoided'''\n",
        "\n",
        "f,ax=plt.subplots(2,1) #Creates 2 subplots under 1 column\n",
        "\n",
        "#Assign the first subplot to graph training loss and validation loss\n",
        "ax[0].plot(model.history.history['loss'],color='b',label='Training Loss')\n",
        "ax[0].plot(model.history.history['val_loss'],color='r',label='Validation Loss')\n",
        "\n",
        "#Next lets plot the training accuracy and validation accuracy\n",
        "ax[1].plot(model.history.history['accuracy'],color='b',label='Training  Accuracy')\n",
        "ax[1].plot(model.history.history['val_accuracy'],color='r',label='Validation Accuracy')"
      ],
      "execution_count": null,
      "outputs": [
        {
          "output_type": "execute_result",
          "data": {
            "text/plain": [
              "[<matplotlib.lines.Line2D at 0x7f8ba64ce6d0>]"
            ]
          },
          "metadata": {
            "tags": []
          },
          "execution_count": 21
        },
        {
          "output_type": "display_data",
          "data": {
            "image/png": "[encoded data removed]",
            "text/plain": [
              "<Figure size 432x288 with 2 Axes>"
            ]
          },
          "metadata": {
            "tags": [],
            "needs_background": "light"
          }
        }
      ]
    },
    {
      "cell_type": "markdown",
      "metadata": {
        "id": "Y9f4j97bsxBz"
      },
      "source": [
        "# Using the custom model to make a prediction on the test set"
      ]
    },
    {
      "cell_type": "code",
      "metadata": {
        "id": "8cz8xol3nwD-",
        "colab": {
          "base_uri": "https://localhost:8080/",
          "height": 375
        },
        "outputId": "0a587459-299e-4a38-b593-acb4eea9fec3"
      },
      "source": [
        "y_pred=model.predict(X_test)\n",
        "y_true=np.argmax(y_test,axis=1)\n",
        "model.evaluate(X_test,y_test)\n",
        "y_pred[0]\n",
        "#Compute the confusion matrix\n",
        "confusion_mtx=confusion_matrix(y_true,y_pred)"
      ],
      "execution_count": null,
      "outputs": [
        {
          "output_type": "error",
          "ename": "KeyboardInterrupt",
          "evalue": "ignored",
          "traceback": [
            "\u001b[0;31m---------------------------------------------------------------------------\u001b[0m",
            "\u001b[0;31mKeyboardInterrupt\u001b[0m                         Traceback (most recent call last)",
            "\u001b[0;32m<ipython-input-29-a551ee15f75b>\u001b[0m in \u001b[0;36m<module>\u001b[0;34m()\u001b[0m\n\u001b[0;32m----> 1\u001b[0;31m \u001b[0my_pred\u001b[0m\u001b[0;34m=\u001b[0m\u001b[0mmodel\u001b[0m\u001b[0;34m.\u001b[0m\u001b[0mpredict\u001b[0m\u001b[0;34m(\u001b[0m\u001b[0mX_test\u001b[0m\u001b[0;34m)\u001b[0m\u001b[0;34m\u001b[0m\u001b[0;34m\u001b[0m\u001b[0m\n\u001b[0m\u001b[1;32m      2\u001b[0m \u001b[0my_true\u001b[0m\u001b[0;34m=\u001b[0m\u001b[0mnp\u001b[0m\u001b[0;34m.\u001b[0m\u001b[0margmax\u001b[0m\u001b[0;34m(\u001b[0m\u001b[0my_test\u001b[0m\u001b[0;34m,\u001b[0m\u001b[0maxis\u001b[0m\u001b[0;34m=\u001b[0m\u001b[0;36m1\u001b[0m\u001b[0;34m)\u001b[0m\u001b[0;34m\u001b[0m\u001b[0;34m\u001b[0m\u001b[0m\n\u001b[1;32m      3\u001b[0m \u001b[0mmodel\u001b[0m\u001b[0;34m.\u001b[0m\u001b[0mevaluate\u001b[0m\u001b[0;34m(\u001b[0m\u001b[0mX_test\u001b[0m\u001b[0;34m,\u001b[0m\u001b[0my_test\u001b[0m\u001b[0;34m)\u001b[0m\u001b[0;34m\u001b[0m\u001b[0;34m\u001b[0m\u001b[0m\n\u001b[1;32m      4\u001b[0m \u001b[0my_pred\u001b[0m\u001b[0;34m[\u001b[0m\u001b[0;36m0\u001b[0m\u001b[0;34m]\u001b[0m\u001b[0;34m\u001b[0m\u001b[0;34m\u001b[0m\u001b[0m\n\u001b[1;32m      5\u001b[0m \u001b[0;31m#Compute the confusion matrix\u001b[0m\u001b[0;34m\u001b[0m\u001b[0;34m\u001b[0m\u001b[0;34m\u001b[0m\u001b[0m\n",
            "\u001b[0;32m/usr/local/lib/python3.7/dist-packages/tensorflow/python/keras/engine/training.py\u001b[0m in \u001b[0;36mpredict\u001b[0;34m(self, x, batch_size, verbose, steps, callbacks, max_queue_size, workers, use_multiprocessing)\u001b[0m\n\u001b[1;32m   1725\u001b[0m           \u001b[0;32mfor\u001b[0m \u001b[0mstep\u001b[0m \u001b[0;32min\u001b[0m \u001b[0mdata_handler\u001b[0m\u001b[0;34m.\u001b[0m\u001b[0msteps\u001b[0m\u001b[0;34m(\u001b[0m\u001b[0;34m)\u001b[0m\u001b[0;34m:\u001b[0m\u001b[0;34m\u001b[0m\u001b[0;34m\u001b[0m\u001b[0m\n\u001b[1;32m   1726\u001b[0m             \u001b[0mcallbacks\u001b[0m\u001b[0;34m.\u001b[0m\u001b[0mon_predict_batch_begin\u001b[0m\u001b[0;34m(\u001b[0m\u001b[0mstep\u001b[0m\u001b[0;34m)\u001b[0m\u001b[0;34m\u001b[0m\u001b[0;34m\u001b[0m\u001b[0m\n\u001b[0;32m-> 1727\u001b[0;31m             \u001b[0mtmp_batch_outputs\u001b[0m \u001b[0;34m=\u001b[0m \u001b[0mself\u001b[0m\u001b[0;34m.\u001b[0m\u001b[0mpredict_function\u001b[0m\u001b[0;34m(\u001b[0m\u001b[0miterator\u001b[0m\u001b[0;34m)\u001b[0m\u001b[0;34m\u001b[0m\u001b[0;34m\u001b[0m\u001b[0m\n\u001b[0m\u001b[1;32m   1728\u001b[0m             \u001b[0;32mif\u001b[0m \u001b[0mdata_handler\u001b[0m\u001b[0;34m.\u001b[0m\u001b[0mshould_sync\u001b[0m\u001b[0;34m:\u001b[0m\u001b[0;34m\u001b[0m\u001b[0;34m\u001b[0m\u001b[0m\n\u001b[1;32m   1729\u001b[0m               \u001b[0mcontext\u001b[0m\u001b[0;34m.\u001b[0m\u001b[0masync_wait\u001b[0m\u001b[0;34m(\u001b[0m\u001b[0;34m)\u001b[0m\u001b[0;34m\u001b[0m\u001b[0;34m\u001b[0m\u001b[0m\n",
            "\u001b[0;32m/usr/local/lib/python3.7/dist-packages/tensorflow/python/eager/def_function.py\u001b[0m in \u001b[0;36m__call__\u001b[0;34m(self, *args, **kwds)\u001b[0m\n\u001b[1;32m    887\u001b[0m \u001b[0;34m\u001b[0m\u001b[0m\n\u001b[1;32m    888\u001b[0m       \u001b[0;32mwith\u001b[0m \u001b[0mOptionalXlaContext\u001b[0m\u001b[0;34m(\u001b[0m\u001b[0mself\u001b[0m\u001b[0;34m.\u001b[0m\u001b[0m_jit_compile\u001b[0m\u001b[0;34m)\u001b[0m\u001b[0;34m:\u001b[0m\u001b[0;34m\u001b[0m\u001b[0;34m\u001b[0m\u001b[0m\n\u001b[0;32m--> 889\u001b[0;31m         \u001b[0mresult\u001b[0m \u001b[0;34m=\u001b[0m \u001b[0mself\u001b[0m\u001b[0;34m.\u001b[0m\u001b[0m_call\u001b[0m\u001b[0;34m(\u001b[0m\u001b[0;34m*\u001b[0m\u001b[0margs\u001b[0m\u001b[0;34m,\u001b[0m \u001b[0;34m**\u001b[0m\u001b[0mkwds\u001b[0m\u001b[0;34m)\u001b[0m\u001b[0;34m\u001b[0m\u001b[0;34m\u001b[0m\u001b[0m\n\u001b[0m\u001b[1;32m    890\u001b[0m \u001b[0;34m\u001b[0m\u001b[0m\n\u001b[1;32m    891\u001b[0m       \u001b[0mnew_tracing_count\u001b[0m \u001b[0;34m=\u001b[0m \u001b[0mself\u001b[0m\u001b[0;34m.\u001b[0m\u001b[0mexperimental_get_tracing_count\u001b[0m\u001b[0;34m(\u001b[0m\u001b[0;34m)\u001b[0m\u001b[0;34m\u001b[0m\u001b[0;34m\u001b[0m\u001b[0m\n",
            "\u001b[0;32m/usr/local/lib/python3.7/dist-packages/tensorflow/python/eager/def_function.py\u001b[0m in \u001b[0;36m_call\u001b[0;34m(self, *args, **kwds)\u001b[0m\n\u001b[1;32m    922\u001b[0m       \u001b[0;31m# In this case we have not created variables on the first call. So we can\u001b[0m\u001b[0;34m\u001b[0m\u001b[0;34m\u001b[0m\u001b[0;34m\u001b[0m\u001b[0m\n\u001b[1;32m    923\u001b[0m       \u001b[0;31m# run the first trace but we should fail if variables are created.\u001b[0m\u001b[0;34m\u001b[0m\u001b[0;34m\u001b[0m\u001b[0;34m\u001b[0m\u001b[0m\n\u001b[0;32m--> 924\u001b[0;31m       \u001b[0mresults\u001b[0m \u001b[0;34m=\u001b[0m \u001b[0mself\u001b[0m\u001b[0;34m.\u001b[0m\u001b[0m_stateful_fn\u001b[0m\u001b[0;34m(\u001b[0m\u001b[0;34m*\u001b[0m\u001b[0margs\u001b[0m\u001b[0;34m,\u001b[0m \u001b[0;34m**\u001b[0m\u001b[0mkwds\u001b[0m\u001b[0;34m)\u001b[0m\u001b[0;34m\u001b[0m\u001b[0;34m\u001b[0m\u001b[0m\n\u001b[0m\u001b[1;32m    925\u001b[0m       \u001b[0;32mif\u001b[0m \u001b[0mself\u001b[0m\u001b[0;34m.\u001b[0m\u001b[0m_created_variables\u001b[0m\u001b[0;34m:\u001b[0m\u001b[0;34m\u001b[0m\u001b[0;34m\u001b[0m\u001b[0m\n\u001b[1;32m    926\u001b[0m         raise ValueError(\"Creating variables on a non-first call to a function\"\n",
            "\u001b[0;32m/usr/local/lib/python3.7/dist-packages/tensorflow/python/eager/function.py\u001b[0m in \u001b[0;36m__call__\u001b[0;34m(self, *args, **kwargs)\u001b[0m\n\u001b[1;32m   3022\u001b[0m        filtered_flat_args) = self._maybe_define_function(args, kwargs)\n\u001b[1;32m   3023\u001b[0m     return graph_function._call_flat(\n\u001b[0;32m-> 3024\u001b[0;31m         filtered_flat_args, captured_inputs=graph_function.captured_inputs)  # pylint: disable=protected-access\n\u001b[0m\u001b[1;32m   3025\u001b[0m \u001b[0;34m\u001b[0m\u001b[0m\n\u001b[1;32m   3026\u001b[0m   \u001b[0;34m@\u001b[0m\u001b[0mproperty\u001b[0m\u001b[0;34m\u001b[0m\u001b[0;34m\u001b[0m\u001b[0m\n",
            "\u001b[0;32m/usr/local/lib/python3.7/dist-packages/tensorflow/python/eager/function.py\u001b[0m in \u001b[0;36m_call_flat\u001b[0;34m(self, args, captured_inputs, cancellation_manager)\u001b[0m\n\u001b[1;32m   1959\u001b[0m       \u001b[0;31m# No tape is watching; skip to running the function.\u001b[0m\u001b[0;34m\u001b[0m\u001b[0;34m\u001b[0m\u001b[0;34m\u001b[0m\u001b[0m\n\u001b[1;32m   1960\u001b[0m       return self._build_call_outputs(self._inference_function.call(\n\u001b[0;32m-> 1961\u001b[0;31m           ctx, args, cancellation_manager=cancellation_manager))\n\u001b[0m\u001b[1;32m   1962\u001b[0m     forward_backward = self._select_forward_and_backward_functions(\n\u001b[1;32m   1963\u001b[0m         \u001b[0margs\u001b[0m\u001b[0;34m,\u001b[0m\u001b[0;34m\u001b[0m\u001b[0;34m\u001b[0m\u001b[0m\n",
            "\u001b[0;32m/usr/local/lib/python3.7/dist-packages/tensorflow/python/eager/function.py\u001b[0m in \u001b[0;36mcall\u001b[0;34m(self, ctx, args, cancellation_manager)\u001b[0m\n\u001b[1;32m    594\u001b[0m               \u001b[0minputs\u001b[0m\u001b[0;34m=\u001b[0m\u001b[0margs\u001b[0m\u001b[0;34m,\u001b[0m\u001b[0;34m\u001b[0m\u001b[0;34m\u001b[0m\u001b[0m\n\u001b[1;32m    595\u001b[0m               \u001b[0mattrs\u001b[0m\u001b[0;34m=\u001b[0m\u001b[0mattrs\u001b[0m\u001b[0;34m,\u001b[0m\u001b[0;34m\u001b[0m\u001b[0;34m\u001b[0m\u001b[0m\n\u001b[0;32m--> 596\u001b[0;31m               ctx=ctx)\n\u001b[0m\u001b[1;32m    597\u001b[0m         \u001b[0;32melse\u001b[0m\u001b[0;34m:\u001b[0m\u001b[0;34m\u001b[0m\u001b[0;34m\u001b[0m\u001b[0m\n\u001b[1;32m    598\u001b[0m           outputs = execute.execute_with_cancellation(\n",
            "\u001b[0;32m/usr/local/lib/python3.7/dist-packages/tensorflow/python/eager/execute.py\u001b[0m in \u001b[0;36mquick_execute\u001b[0;34m(op_name, num_outputs, inputs, attrs, ctx, name)\u001b[0m\n\u001b[1;32m     58\u001b[0m     \u001b[0mctx\u001b[0m\u001b[0;34m.\u001b[0m\u001b[0mensure_initialized\u001b[0m\u001b[0;34m(\u001b[0m\u001b[0;34m)\u001b[0m\u001b[0;34m\u001b[0m\u001b[0;34m\u001b[0m\u001b[0m\n\u001b[1;32m     59\u001b[0m     tensors = pywrap_tfe.TFE_Py_Execute(ctx._handle, device_name, op_name,\n\u001b[0;32m---> 60\u001b[0;31m                                         inputs, attrs, num_outputs)\n\u001b[0m\u001b[1;32m     61\u001b[0m   \u001b[0;32mexcept\u001b[0m \u001b[0mcore\u001b[0m\u001b[0;34m.\u001b[0m\u001b[0m_NotOkStatusException\u001b[0m \u001b[0;32mas\u001b[0m \u001b[0me\u001b[0m\u001b[0;34m:\u001b[0m\u001b[0;34m\u001b[0m\u001b[0;34m\u001b[0m\u001b[0m\n\u001b[1;32m     62\u001b[0m     \u001b[0;32mif\u001b[0m \u001b[0mname\u001b[0m \u001b[0;32mis\u001b[0m \u001b[0;32mnot\u001b[0m \u001b[0;32mNone\u001b[0m\u001b[0;34m:\u001b[0m\u001b[0;34m\u001b[0m\u001b[0;34m\u001b[0m\u001b[0m\n",
            "\u001b[0;31mKeyboardInterrupt\u001b[0m: "
          ]
        }
      ]
    },
    {
      "cell_type": "markdown",
      "metadata": {
        "id": "3zV39PmQs5co"
      },
      "source": [
        "# Confusion Matrix for Custon CNN"
      ]
    },
    {
      "cell_type": "code",
      "metadata": {
        "colab": {
          "base_uri": "https://localhost:8080/",
          "height": 519
        },
        "id": "az1P1450pZm-",
        "outputId": "c5b9dd8a-4f5a-427d-c949-32cd24da9684"
      },
      "source": [
        "plot_confusion_matrix(y_true, y_pred, classes=classes,title='Confusion matrix, without normalization')"
      ],
      "execution_count": null,
      "outputs": [
        {
          "output_type": "stream",
          "text": [
            "Confusion matrix, without normalization\n"
          ],
          "name": "stdout"
        },
        {
          "output_type": "execute_result",
          "data": {
            "text/plain": [
              "<matplotlib.axes._subplots.AxesSubplot at 0x7f8ba6457c10>"
            ]
          },
          "metadata": {
            "tags": []
          },
          "execution_count": 23
        },
        {
          "output_type": "display_data",
          "data": {
            "image/png": "[encoded data removed]",
            "text/plain": [
              "<Figure size 504x504 with 2 Axes>"
            ]
          },
          "metadata": {
            "tags": [],
            "needs_background": "light"
          }
        }
      ]
    },
    {
      "cell_type": "markdown",
      "metadata": {
        "id": "uicjvhBRzipa"
      },
      "source": [
        "# Preprocessing the dataset for ResNet50"
      ]
    },
    {
      "cell_type": "code",
      "metadata": {
        "id": "hxcONsLLpuRR"
      },
      "source": [
        "def preprocess_image_input(input_images):\n",
        "  input_images = input_images.astype('float32')\n",
        "  output_ims = tf.keras.applications.resnet50.preprocess_input(input_images)\n",
        "  return output_ims"
      ],
      "execution_count": null,
      "outputs": []
    },
    {
      "cell_type": "code",
      "metadata": {
        "colab": {
          "base_uri": "https://localhost:8080/"
        },
        "id": "V1orgvnGySpb",
        "outputId": "4bdc39cb-c64d-4a5e-deb0-600bbd9be188"
      },
      "source": [
        "train_X = preprocess_image_input(X_train)\n",
        "valid_X = preprocess_image_input(X_val)\n",
        "y_train = tf.argmax(y_train, axis=1)\n",
        "y_test = tf.argmax(y_test, axis=1)\n",
        "y_val = tf.argmax(y_val, axis=1)\n",
        "y_train.shape\n",
        "y_test.shape\n",
        "y_val.shape"
      ],
      "execution_count": null,
      "outputs": [
        {
          "output_type": "execute_result",
          "data": {
            "text/plain": [
              "TensorShape([15000])"
            ]
          },
          "metadata": {
            "tags": []
          },
          "execution_count": 16
        }
      ]
    },
    {
      "cell_type": "markdown",
      "metadata": {
        "id": "Fl8VplyozwE0"
      },
      "source": [
        "# Importing and defining ResNet50 and compiling the model"
      ]
    },
    {
      "cell_type": "code",
      "metadata": {
        "colab": {
          "base_uri": "https://localhost:8080/"
        },
        "id": "RHeLeurr0IhM",
        "outputId": "1143f556-8505-47b0-9d36-26b84a9e957e"
      },
      "source": [
        "def feature_extractor(inputs):\n",
        "\n",
        "  feature_extractor = tf.keras.applications.resnet.ResNet50(input_shape=(224, 224, 3),\n",
        "                                               include_top=False,\n",
        "                                               weights='imagenet')(inputs)\n",
        "  return feature_extractor\n",
        "\n",
        "def classifier(inputs):\n",
        "    x = tf.keras.layers.GlobalAveragePooling2D()(inputs)\n",
        "    x = tf.keras.layers.Flatten()(x)\n",
        "    x = tf.keras.layers.Dense(1024, activation=\"relu\")(x)\n",
        "    x = tf.keras.layers.Dense(512, activation=\"relu\")(x)\n",
        "    x = tf.keras.layers.Dense(10, activation=\"softmax\", name=\"classification\")(x)\n",
        "    return x\n",
        "\n",
        "def final_model(inputs):\n",
        "\n",
        "    resize = tf.keras.layers.UpSampling2D(size=(7,7))(inputs)\n",
        "\n",
        "    resnet_feature_extractor = feature_extractor(resize)\n",
        "    classification_output = classifier(resnet_feature_extractor)\n",
        "\n",
        "    return classification_output\n",
        "\n",
        "def define_compile_model():\n",
        "  inputs = tf.keras.layers.Input(shape=(32,32,3))\n",
        "  \n",
        "  classification_output = final_model(inputs) \n",
        "  model = tf.keras.Model(inputs=inputs, outputs = classification_output)\n",
        " \n",
        "  model.compile(optimizer='SGD', \n",
        "                loss='sparse_categorical_crossentropy',\n",
        "                metrics = ['accuracy'])\n",
        "  \n",
        "  return model\n",
        "\n",
        "\n",
        "model = define_compile_model()\n",
        "\n",
        "model.summary()\n",
        "\n"
      ],
      "execution_count": null,
      "outputs": [
        {
          "output_type": "stream",
          "text": [
            "Model: \"model\"\n",
            "_________________________________________________________________\n",
            "Layer (type)                 Output Shape              Param #   \n",
            "=================================================================\n",
            "input_1 (InputLayer)         [(None, 32, 32, 3)]       0         \n",
            "_________________________________________________________________\n",
            "up_sampling2d (UpSampling2D) (None, 224, 224, 3)       0         \n",
            "_________________________________________________________________\n",
            "resnet50 (Functional)        (None, 7, 7, 2048)        23587712  \n",
            "_________________________________________________________________\n",
            "global_average_pooling2d (Gl (None, 2048)              0         \n",
            "_________________________________________________________________\n",
            "flatten (Flatten)            (None, 2048)              0         \n",
            "_________________________________________________________________\n",
            "dense (Dense)                (None, 1024)              2098176   \n",
            "_________________________________________________________________\n",
            "dense_1 (Dense)              (None, 512)               524800    \n",
            "_________________________________________________________________\n",
            "classification (Dense)       (None, 10)                5130      \n",
            "=================================================================\n",
            "Total params: 26,215,818\n",
            "Trainable params: 26,162,698\n",
            "Non-trainable params: 53,120\n",
            "_________________________________________________________________\n"
          ],
          "name": "stdout"
        }
      ]
    },
    {
      "cell_type": "markdown",
      "metadata": {
        "id": "3vadar4Sz5S8"
      },
      "source": [
        "# Training the ResNet50 model"
      ]
    },
    {
      "cell_type": "code",
      "metadata": {
        "colab": {
          "base_uri": "https://localhost:8080/"
        },
        "id": "XqkeMDvi0hxd",
        "outputId": "5a69dbbf-5cf9-464a-8dd5-77728422c074"
      },
      "source": [
        "EPOCHS = 10\n",
        "history = model.fit(X_train, y_train, epochs=EPOCHS, validation_data = (X_val, y_val), batch_size=64)"
      ],
      "execution_count": null,
      "outputs": [
        {
          "output_type": "stream",
          "text": [
            "Epoch 1/10\n",
            "547/547 [==============================] - 371s 663ms/step - loss: 0.5638 - accuracy: 0.8118 - val_loss: 2.8873 - val_accuracy: 0.1552\n",
            "Epoch 2/10\n",
            "547/547 [==============================] - 366s 669ms/step - loss: 0.1485 - accuracy: 0.9517 - val_loss: 0.3183 - val_accuracy: 0.8948\n",
            "Epoch 3/10\n",
            "547/547 [==============================] - 367s 670ms/step - loss: 0.0518 - accuracy: 0.9851 - val_loss: 0.2106 - val_accuracy: 0.9311\n",
            "Epoch 4/10\n",
            "547/547 [==============================] - 367s 670ms/step - loss: 0.0195 - accuracy: 0.9958 - val_loss: 0.2251 - val_accuracy: 0.9358\n",
            "Epoch 5/10\n",
            "547/547 [==============================] - 367s 670ms/step - loss: 0.0086 - accuracy: 0.9987 - val_loss: 0.2272 - val_accuracy: 0.9353\n",
            "Epoch 6/10\n",
            "547/547 [==============================] - 366s 670ms/step - loss: 0.0058 - accuracy: 0.9992 - val_loss: 0.2312 - val_accuracy: 0.9373\n",
            "Epoch 7/10\n",
            "547/547 [==============================] - 367s 670ms/step - loss: 0.0043 - accuracy: 0.9995 - val_loss: 0.2301 - val_accuracy: 0.9403\n",
            "Epoch 8/10\n",
            "547/547 [==============================] - 366s 670ms/step - loss: 0.0030 - accuracy: 0.9997 - val_loss: 0.2298 - val_accuracy: 0.9408\n",
            "Epoch 9/10\n",
            "547/547 [==============================] - 366s 670ms/step - loss: 0.0024 - accuracy: 0.9998 - val_loss: 0.2338 - val_accuracy: 0.9407\n",
            "Epoch 10/10\n",
            "547/547 [==============================] - 366s 670ms/step - loss: 0.0021 - accuracy: 0.9997 - val_loss: 0.2434 - val_accuracy: 0.9407\n"
          ],
          "name": "stdout"
        }
      ]
    },
    {
      "cell_type": "markdown",
      "metadata": {
        "id": "x68xCdYNz-zF"
      },
      "source": [
        "# Plotting the accuracy and loss curves"
      ]
    },
    {
      "cell_type": "code",
      "metadata": {
        "colab": {
          "base_uri": "https://localhost:8080/",
          "height": 285
        },
        "id": "2X1iMWE30ovE",
        "outputId": "9d5ddf4b-5ad8-472c-d306-badfcfe809be"
      },
      "source": [
        "#Plot the training and valiation loss\n",
        "'''The output of model.fit is a model.History object which is a record of metrics at each epoch. This can be used to graph the training and validation accuracy\n",
        "to see where they plateaued off and if overfitting can subsequently be avoided'''\n",
        "\n",
        "f,ax=plt.subplots(2,1) #Creates 2 subplots under 1 column\n",
        "\n",
        "#Assign the first subplot to graph training loss and validation loss\n",
        "ax[0].plot(model.history.history['loss'],color='b',label='Training Loss')\n",
        "ax[0].plot(model.history.history['val_loss'],color='r',label='Validation Loss')\n",
        "\n",
        "#Next lets plot the training accuracy and validation accuracy\n",
        "ax[1].plot(model.history.history['accuracy'],color='b',label='Training  Accuracy')\n",
        "ax[1].plot(model.history.history['val_accuracy'],color='r',label='Validation Accuracy')"
      ],
      "execution_count": null,
      "outputs": [
        {
          "output_type": "execute_result",
          "data": {
            "text/plain": [
              "[<matplotlib.lines.Line2D at 0x7f700c5d67d0>]"
            ]
          },
          "metadata": {
            "tags": []
          },
          "execution_count": 19
        },
        {
          "output_type": "display_data",
          "data": {
            "image/png": "[encoded data removed]",
            "text/plain": [
              "<Figure size 432x288 with 2 Axes>"
            ]
          },
          "metadata": {
            "tags": [],
            "needs_background": "light"
          }
        }
      ]
    },
    {
      "cell_type": "markdown",
      "metadata": {
        "id": "7HpSmczm0E2z"
      },
      "source": [
        "# Predicting values using the trained model"
      ]
    },
    {
      "cell_type": "code",
      "metadata": {
        "colab": {
          "base_uri": "https://localhost:8080/"
        },
        "id": "MoDb3EzfD8Z4",
        "outputId": "d23ada38-cd43-42b5-83b6-6d47911e4c51"
      },
      "source": [
        "y_pred=model.predict(X_test)\n",
        "y_true=y_test\n",
        "model.evaluate(X_test,y_test)\n"
      ],
      "execution_count": null,
      "outputs": [
        {
          "output_type": "stream",
          "text": [
            "313/313 [==============================] - 27s 87ms/step - loss: 0.2608 - accuracy: 0.9399\n"
          ],
          "name": "stdout"
        },
        {
          "output_type": "execute_result",
          "data": {
            "text/plain": [
              "[0.26083052158355713, 0.9398999810218811]"
            ]
          },
          "metadata": {
            "tags": []
          },
          "execution_count": 37
        }
      ]
    },
    {
      "cell_type": "code",
      "metadata": {
        "id": "XWpr6KlBTHr3"
      },
      "source": [
        "y_pred=np.argmax(y_pred,axis=1)\n",
        "y_pred[0]\n",
        "#Compute the confusion matrix\n",
        "confusion_mtx=confusion_matrix(y_true,y_pred)"
      ],
      "execution_count": null,
      "outputs": []
    },
    {
      "cell_type": "markdown",
      "metadata": {
        "id": "EKxOL4dM0L4l"
      },
      "source": [
        "# Plotting the confusion matrix for ResNet50"
      ]
    },
    {
      "cell_type": "code",
      "metadata": {
        "colab": {
          "base_uri": "https://localhost:8080/",
          "height": 520
        },
        "id": "K3g2xAx6VoFO",
        "outputId": "2b6a243d-1814-4c7f-87c6-1a2867a44eae"
      },
      "source": [
        "plot_confusion_matrix(y_true, y_pred, classes=classes,title='Confusion matrix, without normalization')"
      ],
      "execution_count": null,
      "outputs": [
        {
          "output_type": "stream",
          "text": [
            "Confusion matrix, without normalization\n"
          ],
          "name": "stdout"
        },
        {
          "output_type": "execute_result",
          "data": {
            "text/plain": [
              "<matplotlib.axes._subplots.AxesSubplot at 0x7f6d7e4f1c90>"
            ]
          },
          "metadata": {
            "tags": []
          },
          "execution_count": 39
        },
        {
          "output_type": "display_data",
          "data": {
            "image/png": "[encoded data removed]",
            "text/plain": [
              "<Figure size 504x504 with 2 Axes>"
            ]
          },
          "metadata": {
            "tags": [],
            "needs_background": "light"
          }
        }
      ]
    },
    {
      "cell_type": "code",
      "metadata": {
        "id": "2V8PClhlYAFT"
      },
      "source": [
        ""
      ],
      "execution_count": null,
      "outputs": []
    }
  ]
}